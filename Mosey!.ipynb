{
 "cells": [
  {
   "cell_type": "code",
   "execution_count": 1,
   "metadata": {},
   "outputs": [],
   "source": [
    "import numpy as np\n",
    "import pandas as pd\n",
    "import gudhi as gd  \n",
    "from sklearn import manifold\n",
    "from pylab import *\n",
    "import sklearn_tda\n",
    "import matplotlib.pyplot as plot\n",
    "%matplotlib inline"
   ]
  },
  {
   "cell_type": "code",
   "execution_count": 2,
   "metadata": {},
   "outputs": [],
   "source": [
    "my_data = np.recfromcsv('./InteractiveJPDwB/data/seed1_data.csv', delimiter=',')\n",
    "my_data = [[i[1],i[2]] for i in my_data]"
   ]
  },
  {
   "cell_type": "code",
   "execution_count": 3,
   "metadata": {
    "tags": [
     "outputPrepend",
     "outputPrepend",
     "outputPrepend",
     "outputPrepend",
     "outputPrepend",
     "outputPrepend",
     "outputPrepend",
     "outputPrepend",
     "outputPrepend",
     "outputPrepend",
     "outputPrepend",
     "outputPrepend",
     "outputPrepend",
     "outputPrepend",
     "outputPrepend",
     "outputPrepend",
     "outputPrepend",
     "outputPrepend",
     "outputPrepend",
     "outputPrepend",
     "outputPrepend",
     "outputPrepend",
     "outputPrepend",
     "outputPrepend",
     "outputPrepend",
     "outputPrepend",
     "outputPrepend",
     "outputPrepend",
     "outputPrepend",
     "outputPrepend",
     "outputPrepend",
     "outputPrepend",
     "outputPrepend",
     "outputPrepend",
     "outputPrepend",
     "outputPrepend",
     "outputPrepend",
     "outputPrepend",
     "outputPrepend",
     "outputPrepend",
     "outputPrepend",
     "outputPrepend",
     "outputPrepend",
     "outputPrepend",
     "outputPrepend",
     "outputPrepend",
     "outputPrepend",
     "outputPrepend",
     "outputPrepend",
     "outputPrepend",
     "outputPrepend",
     "outputPrepend",
     "outputPrepend",
     "outputPrepend",
     "outputPrepend",
     "outputPrepend",
     "outputPrepend",
     "outputPrepend",
     "outputPrepend",
     "outputPrepend",
     "outputPrepend",
     "outputPrepend",
     "outputPrepend",
     "outputPrepend",
     "outputPrepend",
     "outputPrepend",
     "outputPrepend",
     "outputPrepend",
     "outputPrepend",
     "outputPrepend",
     "outputPrepend",
     "outputPrepend",
     "outputPrepend",
     "outputPrepend",
     "outputPrepend",
     "outputPrepend",
     "outputPrepend",
     "outputPrepend",
     "outputPrepend",
     "outputPrepend",
     "outputPrepend",
     "outputPrepend",
     "outputPrepend",
     "outputPrepend",
     "outputPrepend",
     "outputPrepend",
     "outputPrepend"
    ]
   },
   "outputs": [
    {
     "output_type": "stream",
     "name": "stdout",
     "text": "Rips complex is of dimension 2 - 166750 simplices - 100 vertices.\n"
    }
   ],
   "source": [
    "import gudhi\n",
    "rips_complex = gudhi.RipsComplex(points=my_data)\n",
    "\n",
    "simplex_tree = rips_complex.create_simplex_tree(max_dimension=2)\n",
    "result_str = 'Rips complex is of dimension ' + repr(simplex_tree.dimension()) + ' - ' + \\\n",
    "    repr(simplex_tree.num_simplices()) + ' simplices - ' + \\\n",
    "    repr(simplex_tree.num_vertices()) + ' vertices.'\n",
    "print(result_str)"
   ]
  },
  {
   "cell_type": "code",
   "execution_count": 4,
   "metadata": {},
   "outputs": [],
   "source": [
    "BarCodes_Rips0 = simplex_tree.persistence()\n",
    "BarCodes_Rips0 = list(filter(lambda BettiNum: BettiNum[0] == 1, BarCodes_Rips0))"
   ]
  },
  {
   "cell_type": "code",
   "execution_count": 5,
   "metadata": {},
   "outputs": [
    {
     "output_type": "execute_result",
     "data": {
      "text/plain": "<matplotlib.axes._subplots.AxesSubplot at 0x11d8b36a0>"
     },
     "metadata": {},
     "execution_count": 5
    },
    {
     "output_type": "display_data",
     "data": {
      "text/plain": "<Figure size 432x288 with 1 Axes>",
      "image/svg+xml": "<?xml version=\"1.0\" encoding=\"utf-8\" standalone=\"no\"?>\n<!DOCTYPE svg PUBLIC \"-//W3C//DTD SVG 1.1//EN\"\n  \"http://www.w3.org/Graphics/SVG/1.1/DTD/svg11.dtd\">\n<!-- Created with matplotlib (https://matplotlib.org/) -->\n<svg height=\"264.765265pt\" version=\"1.1\" viewBox=\"0 0 373.911414 264.765265\" width=\"373.911414pt\" xmlns=\"http://www.w3.org/2000/svg\" xmlns:xlink=\"http://www.w3.org/1999/xlink\">\n <defs>\n  <style type=\"text/css\">\n*{stroke-linecap:butt;stroke-linejoin:round;}\n  </style>\n </defs>\n <g id=\"figure_1\">\n  <g id=\"patch_1\">\n   <path d=\"M 0 264.765265 \nL 373.911414 264.765265 \nL 373.911414 0 \nL 0 0 \nz\n\" style=\"fill:none;\"/>\n  </g>\n  <g id=\"axes_1\">\n   <g id=\"patch_2\">\n    <path d=\"M 31.911414 241.709588 \nL 366.711414 241.709588 \nL 366.711414 24.269588 \nL 31.911414 24.269588 \nz\n\" style=\"fill:#ffffff;\"/>\n   </g>\n   <g id=\"patch_3\">\n    <path clip-path=\"url(#p57ed243e9b)\" d=\"M 321.612513 246.287272 \nL 321.96165 246.287272 \nL 321.96165 237.131904 \nL 321.612513 237.131904 \nz\n\" style=\"fill:#377eb8;opacity:0.6;\"/>\n   </g>\n   <g id=\"patch_4\">\n    <path clip-path=\"url(#p57ed243e9b)\" d=\"M 310.753819 234.843062 \nL 315.081105 234.843062 \nL 315.081105 225.687694 \nL 310.753819 225.687694 \nz\n\" style=\"fill:#377eb8;opacity:0.6;\"/>\n   </g>\n   <g id=\"patch_5\">\n    <path clip-path=\"url(#p57ed243e9b)\" d=\"M 309.644226 223.398851 \nL 334.663096 223.398851 \nL 334.663096 214.243483 \nL 309.644226 214.243483 \nz\n\" style=\"fill:#377eb8;opacity:0.6;\"/>\n   </g>\n   <g id=\"patch_6\">\n    <path clip-path=\"url(#p57ed243e9b)\" d=\"M 241.916142 211.954641 \nL 249.026583 211.954641 \nL 249.026583 202.799272 \nL 241.916142 202.799272 \nz\n\" style=\"fill:#377eb8;opacity:0.6;\"/>\n   </g>\n   <g id=\"patch_7\">\n    <path clip-path=\"url(#p57ed243e9b)\" d=\"M 240.793964 200.51043 \nL 245.23591 200.51043 \nL 245.23591 191.355062 \nL 240.793964 191.355062 \nz\n\" style=\"fill:#377eb8;opacity:0.6;\"/>\n   </g>\n   <g id=\"patch_8\">\n    <path clip-path=\"url(#p57ed243e9b)\" d=\"M 240.393481 189.06622 \nL 242.117202 189.06622 \nL 242.117202 179.910851 \nL 240.393481 179.910851 \nz\n\" style=\"fill:#377eb8;opacity:0.6;\"/>\n   </g>\n   <g id=\"patch_9\">\n    <path clip-path=\"url(#p57ed243e9b)\" d=\"M 240.032562 177.622009 \nL 241.055995 177.622009 \nL 241.055995 168.466641 \nL 240.032562 168.466641 \nz\n\" style=\"fill:#377eb8;opacity:0.6;\"/>\n   </g>\n   <g id=\"patch_10\">\n    <path clip-path=\"url(#p57ed243e9b)\" d=\"M 237.89656 166.177799 \nL 241.21652 166.177799 \nL 241.21652 157.02243 \nL 237.89656 157.02243 \nz\n\" style=\"fill:#377eb8;opacity:0.6;\"/>\n   </g>\n   <g id=\"patch_11\">\n    <path clip-path=\"url(#p57ed243e9b)\" d=\"M 235.594338 154.733588 \nL 236.09041 154.733588 \nL 236.09041 145.57822 \nL 235.594338 145.57822 \nz\n\" style=\"fill:#377eb8;opacity:0.6;\"/>\n   </g>\n   <g id=\"patch_12\">\n    <path clip-path=\"url(#p57ed243e9b)\" d=\"M 233.388725 143.289378 \nL 262.298261 143.289378 \nL 262.298261 134.134009 \nL 233.388725 134.134009 \nz\n\" style=\"fill:#377eb8;opacity:0.6;\"/>\n   </g>\n   <g id=\"patch_13\">\n    <path clip-path=\"url(#p57ed243e9b)\" d=\"M 232.858123 131.845167 \nL 252.930685 131.845167 \nL 252.930685 122.689799 \nL 232.858123 122.689799 \nz\n\" style=\"fill:#377eb8;opacity:0.6;\"/>\n   </g>\n   <g id=\"patch_14\">\n    <path clip-path=\"url(#p57ed243e9b)\" d=\"M 208.433207 120.400957 \nL 338.811414 120.400957 \nL 338.811414 111.245588 \nL 208.433207 111.245588 \nz\n\" style=\"fill:#377eb8;opacity:0.6;\"/>\n   </g>\n   <g id=\"patch_15\">\n    <path clip-path=\"url(#p57ed243e9b)\" d=\"M 197.799964 108.956746 \nL 221.741002 108.956746 \nL 221.741002 99.801378 \nL 197.799964 99.801378 \nz\n\" style=\"fill:#377eb8;opacity:0.6;\"/>\n   </g>\n   <g id=\"patch_16\">\n    <path clip-path=\"url(#p57ed243e9b)\" d=\"M 173.019712 97.512536 \nL 212.965561 97.512536 \nL 212.965561 88.357167 \nL 173.019712 88.357167 \nz\n\" style=\"fill:#377eb8;opacity:0.6;\"/>\n   </g>\n   <g id=\"patch_17\">\n    <path clip-path=\"url(#p57ed243e9b)\" d=\"M 166.618899 86.068325 \nL 251.234359 86.068325 \nL 251.234359 76.912957 \nL 166.618899 76.912957 \nz\n\" style=\"fill:#377eb8;opacity:0.6;\"/>\n   </g>\n   <g id=\"patch_18\">\n    <path clip-path=\"url(#p57ed243e9b)\" d=\"M 134.730993 74.624115 \nL 247.373807 74.624115 \nL 247.373807 65.468746 \nL 134.730993 65.468746 \nz\n\" style=\"fill:#377eb8;opacity:0.6;\"/>\n   </g>\n   <g id=\"patch_19\">\n    <path clip-path=\"url(#p57ed243e9b)\" d=\"M 106.642453 63.179904 \nL 108.065687 63.179904 \nL 108.065687 54.024536 \nL 106.642453 54.024536 \nz\n\" style=\"fill:#377eb8;opacity:0.6;\"/>\n   </g>\n   <g id=\"patch_20\">\n    <path clip-path=\"url(#p57ed243e9b)\" d=\"M 69.972143 51.735694 \nL 77.593727 51.735694 \nL 77.593727 42.580325 \nL 69.972143 42.580325 \nz\n\" style=\"fill:#377eb8;opacity:0.6;\"/>\n   </g>\n   <g id=\"patch_21\">\n    <path clip-path=\"url(#p57ed243e9b)\" d=\"M 59.811414 40.291483 \nL 59.951185 40.291483 \nL 59.951185 31.136115 \nL 59.811414 31.136115 \nz\n\" style=\"fill:#377eb8;opacity:0.6;\"/>\n   </g>\n   <g id=\"matplotlib.axis_1\">\n    <g id=\"xtick_1\">\n     <g id=\"line2d_1\">\n      <defs>\n       <path d=\"M 0 0 \nL 0 3.5 \n\" id=\"m0c11894aef\" style=\"stroke:#000000;stroke-width:0.8;\"/>\n      </defs>\n      <g>\n       <use style=\"stroke:#000000;stroke-width:0.8;\" x=\"77.530117\" xlink:href=\"#m0c11894aef\" y=\"241.709588\"/>\n      </g>\n     </g>\n     <g id=\"text_1\">\n      <!-- $0.05$ -->\n      <defs>\n       <path d=\"M 42 31.640625 \nC 42 37.75 41.90625 48.125 37.703125 56.109375 \nC 34 63.109375 28.09375 65.59375 22.90625 65.59375 \nC 18.09375 65.59375 12 63.40625 8.203125 56.203125 \nC 4.203125 48.71875 3.796875 39.4375 3.796875 31.640625 \nC 3.796875 25.953125 3.90625 17.28125 7 9.671875 \nC 11.296875 -0.609375 19 -2 22.90625 -2 \nC 27.5 -2 34.5 -0.109375 38.59375 9.375 \nC 41.59375 16.28125 42 24.359375 42 31.640625 \nz\nM 22.90625 -0.40625 \nC 16.5 -0.40625 12.703125 5.078125 11.296875 12.6875 \nC 10.203125 18.5625 10.203125 27.15625 10.203125 32.75 \nC 10.203125 40.4375 10.203125 46.828125 11.5 52.921875 \nC 13.40625 61.390625 19 64 22.90625 64 \nC 27 64 32.296875 61.296875 34.203125 53.125 \nC 35.5 47.4375 35.59375 40.734375 35.59375 32.75 \nC 35.59375 26.25 35.59375 18.265625 34.40625 12.375 \nC 32.296875 1.484375 26.40625 -0.40625 22.90625 -0.40625 \nz\n\" id=\"CMR17-48\"/>\n       <path d=\"M 18.40625 4.796875 \nC 18.40625 7.6875 16 9.671875 13.59375 9.671875 \nC 10.703125 9.671875 8.703125 7.28125 8.703125 4.890625 \nC 8.703125 2 11.09375 0 13.5 0 \nC 16.40625 0 18.40625 2.390625 18.40625 4.796875 \nz\n\" id=\"CMMI12-58\"/>\n       <path d=\"M 11.40625 57.6875 \nC 12.40625 57.28125 16.5 56 20.703125 56 \nC 30 56 35.09375 61.109375 38 64.0625 \nC 38 64.953125 38 65.5 37.40625 65.5 \nC 37.296875 65.5 37.09375 65.5 36.296875 65.046875 \nC 32.796875 63.40625 28.703125 62.078125 23.703125 62.078125 \nC 20.703125 62.078125 16.203125 62.484375 11.296875 64.671875 \nC 10.203125 65.171875 10 65.171875 9.90625 65.171875 \nC 9.40625 65.171875 9.296875 65.0625 9.296875 63.078125 \nL 9.296875 34.421875 \nC 9.296875 32.640625 9.296875 32.140625 10.296875 32.140625 \nC 10.796875 32.140625 11 32.34375 11.5 33.03125 \nC 14.703125 37.515625 19.09375 39.40625 24.09375 39.40625 \nC 27.59375 39.40625 35.09375 37.21875 35.09375 20.140625 \nC 35.09375 16.953125 35.09375 11.171875 32.09375 6.578125 \nC 29.59375 2.484375 25.703125 0.390625 21.40625 0.390625 \nC 14.796875 0.390625 8.09375 5 6.296875 12.71875 \nC 6.703125 12.609375 7.5 12.421875 7.90625 12.421875 \nC 9.203125 12.421875 11.703125 13.125 11.703125 16.21875 \nC 11.703125 18.90625 9.796875 20 7.90625 20 \nC 5.59375 20 4.09375 18.59375 4.09375 15.796875 \nC 4.09375 7.09375 11 -2 21.59375 -2 \nC 31.90625 -2 41.703125 6.875 41.703125 19.75 \nC 41.703125 31.71875 33.90625 41 24.203125 41 \nC 19.09375 41 14.796875 39.109375 11.40625 35.53125 \nz\n\" id=\"CMR17-53\"/>\n      </defs>\n      <g transform=\"translate(68.67441 255.628087)scale(0.1 -0.1)\">\n       <use transform=\"scale(0.996264)\" xlink:href=\"#CMR17-48\"/>\n       <use transform=\"translate(45.690477 0)scale(0.996264)\" xlink:href=\"#CMMI12-58\"/>\n       <use transform=\"translate(72.787654 0)scale(0.996264)\" xlink:href=\"#CMR17-48\"/>\n       <use transform=\"translate(118.478131 0)scale(0.996264)\" xlink:href=\"#CMR17-53\"/>\n      </g>\n     </g>\n    </g>\n    <g id=\"xtick_2\">\n     <g id=\"line2d_2\">\n      <g>\n       <use style=\"stroke:#000000;stroke-width:0.8;\" x=\"126.228323\" xlink:href=\"#m0c11894aef\" y=\"241.709588\"/>\n      </g>\n     </g>\n     <g id=\"text_2\">\n      <!-- $0.10$ -->\n      <defs>\n       <path d=\"M 26.59375 63.40625 \nC 26.59375 65.5 26.5 65.5 25.09375 65.5 \nC 21.203125 61.1875 15.296875 59.796875 9.703125 59.796875 \nC 9.40625 59.796875 8.90625 59.796875 8.796875 59.5 \nC 8.703125 59.296875 8.703125 59.09375 8.703125 57 \nC 11.796875 57 17 57.59375 21 59.984375 \nL 21 7.203125 \nC 21 3.6875 20.796875 2.5 12.203125 2.5 \nL 9.203125 2.5 \nL 9.203125 0 \nC 14 0 19 0 23.796875 0 \nC 28.59375 0 33.59375 0 38.40625 0 \nL 38.40625 2.5 \nL 35.40625 2.5 \nC 26.796875 2.5 26.59375 3.59375 26.59375 7.15625 \nz\n\" id=\"CMR17-49\"/>\n      </defs>\n      <g transform=\"translate(117.372616 255.628087)scale(0.1 -0.1)\">\n       <use transform=\"scale(0.996264)\" xlink:href=\"#CMR17-48\"/>\n       <use transform=\"translate(45.690477 0)scale(0.996264)\" xlink:href=\"#CMMI12-58\"/>\n       <use transform=\"translate(72.787654 0)scale(0.996264)\" xlink:href=\"#CMR17-49\"/>\n       <use transform=\"translate(118.478131 0)scale(0.996264)\" xlink:href=\"#CMR17-48\"/>\n      </g>\n     </g>\n    </g>\n    <g id=\"xtick_3\">\n     <g id=\"line2d_3\">\n      <g>\n       <use style=\"stroke:#000000;stroke-width:0.8;\" x=\"174.926529\" xlink:href=\"#m0c11894aef\" y=\"241.709588\"/>\n      </g>\n     </g>\n     <g id=\"text_3\">\n      <!-- $0.15$ -->\n      <g transform=\"translate(166.070822 255.628087)scale(0.1 -0.1)\">\n       <use transform=\"scale(0.996264)\" xlink:href=\"#CMR17-48\"/>\n       <use transform=\"translate(45.690477 0)scale(0.996264)\" xlink:href=\"#CMMI12-58\"/>\n       <use transform=\"translate(72.787654 0)scale(0.996264)\" xlink:href=\"#CMR17-49\"/>\n       <use transform=\"translate(118.478131 0)scale(0.996264)\" xlink:href=\"#CMR17-53\"/>\n      </g>\n     </g>\n    </g>\n    <g id=\"xtick_4\">\n     <g id=\"line2d_4\">\n      <g>\n       <use style=\"stroke:#000000;stroke-width:0.8;\" x=\"223.624735\" xlink:href=\"#m0c11894aef\" y=\"241.709588\"/>\n      </g>\n     </g>\n     <g id=\"text_4\">\n      <!-- $0.20$ -->\n      <defs>\n       <path d=\"M 41.703125 15.453125 \nL 39.90625 15.453125 \nC 38.90625 8.375 38.09375 7.171875 37.703125 6.5625 \nC 37.203125 5.765625 30 5.765625 28.59375 5.765625 \nL 9.40625 5.765625 \nC 13 9.671875 20 16.75 28.5 24.953125 \nC 34.59375 30.734375 41.703125 37.53125 41.703125 47.421875 \nC 41.703125 59.21875 32.296875 66 21.796875 66 \nC 10.796875 66 4.09375 56.3125 4.09375 47.34375 \nC 4.09375 43.4375 7 42.9375 8.203125 42.9375 \nC 9.203125 42.9375 12.203125 43.546875 12.203125 47.03125 \nC 12.203125 50.109375 9.59375 51 8.203125 51 \nC 7.59375 51 7 50.90625 6.59375 50.703125 \nC 8.5 59.21875 14.296875 63.40625 20.40625 63.40625 \nC 29.09375 63.40625 34.796875 56.515625 34.796875 47.421875 \nC 34.796875 38.734375 29.703125 31.25 24 24.75 \nL 4.09375 2.28125 \nL 4.09375 0 \nL 39.296875 0 \nz\n\" id=\"CMR17-50\"/>\n      </defs>\n      <g transform=\"translate(214.769028 255.628087)scale(0.1 -0.1)\">\n       <use transform=\"scale(0.996264)\" xlink:href=\"#CMR17-48\"/>\n       <use transform=\"translate(45.690477 0)scale(0.996264)\" xlink:href=\"#CMMI12-58\"/>\n       <use transform=\"translate(72.787654 0)scale(0.996264)\" xlink:href=\"#CMR17-50\"/>\n       <use transform=\"translate(118.478131 0)scale(0.996264)\" xlink:href=\"#CMR17-48\"/>\n      </g>\n     </g>\n    </g>\n    <g id=\"xtick_5\">\n     <g id=\"line2d_5\">\n      <g>\n       <use style=\"stroke:#000000;stroke-width:0.8;\" x=\"272.322941\" xlink:href=\"#m0c11894aef\" y=\"241.709588\"/>\n      </g>\n     </g>\n     <g id=\"text_5\">\n      <!-- $0.25$ -->\n      <g transform=\"translate(263.467234 255.628087)scale(0.1 -0.1)\">\n       <use transform=\"scale(0.996264)\" xlink:href=\"#CMR17-48\"/>\n       <use transform=\"translate(45.690477 0)scale(0.996264)\" xlink:href=\"#CMMI12-58\"/>\n       <use transform=\"translate(72.787654 0)scale(0.996264)\" xlink:href=\"#CMR17-50\"/>\n       <use transform=\"translate(118.478131 0)scale(0.996264)\" xlink:href=\"#CMR17-53\"/>\n      </g>\n     </g>\n    </g>\n    <g id=\"xtick_6\">\n     <g id=\"line2d_6\">\n      <g>\n       <use style=\"stroke:#000000;stroke-width:0.8;\" x=\"321.021148\" xlink:href=\"#m0c11894aef\" y=\"241.709588\"/>\n      </g>\n     </g>\n     <g id=\"text_6\">\n      <!-- $0.30$ -->\n      <defs>\n       <path d=\"M 22.09375 33.703125 \nC 31 33.703125 34.90625 25.96875 34.90625 17.03125 \nC 34.90625 5 28.5 0.390625 22.703125 0.390625 \nC 17.40625 0.390625 8.796875 3.03125 6.09375 10.828125 \nC 6.59375 10.625 7.09375 10.625 7.59375 10.625 \nC 10 10.625 11.796875 12.21875 11.796875 14.8125 \nC 11.796875 17.703125 9.59375 19 7.59375 19 \nC 5.90625 19 3.296875 18.203125 3.296875 14.46875 \nC 3.296875 5.234375 12.296875 -2 22.90625 -2 \nC 34 -2 42.5 6.71875 42.5 16.953125 \nC 42.5 26.671875 34.5 33.703125 25 34.796875 \nC 32.59375 36.375 39.90625 43.0625 39.90625 52.015625 \nC 39.90625 59.6875 32 65.296875 23 65.296875 \nC 13.90625 65.296875 5.90625 59.828125 5.90625 52.015625 \nC 5.90625 48.59375 8.5 48 9.796875 48 \nC 11.90625 48 13.703125 49.296875 13.703125 51.890625 \nC 13.703125 54.46875 11.90625 55.765625 9.796875 55.765625 \nC 9.40625 55.765625 8.90625 55.765625 8.5 55.578125 \nC 11.40625 61.859375 19.296875 63 22.796875 63 \nC 26.296875 63 32.90625 61.328125 32.90625 51.875 \nC 32.90625 49.109375 32.5 44.1875 29.09375 39.84375 \nC 26.09375 36 22.703125 36 19.40625 35.6875 \nC 18.90625 35.6875 16.59375 35.453125 16.203125 35.453125 \nC 15.5 35.359375 15.09375 35.265625 15.09375 34.5 \nC 15.09375 33.796875 15.203125 33.703125 17.203125 33.703125 \nz\n\" id=\"CMR17-51\"/>\n      </defs>\n      <g transform=\"translate(312.16544 255.628087)scale(0.1 -0.1)\">\n       <use transform=\"scale(0.996264)\" xlink:href=\"#CMR17-48\"/>\n       <use transform=\"translate(45.690477 0)scale(0.996264)\" xlink:href=\"#CMMI12-58\"/>\n       <use transform=\"translate(72.787654 0)scale(0.996264)\" xlink:href=\"#CMR17-51\"/>\n       <use transform=\"translate(118.478131 0)scale(0.996264)\" xlink:href=\"#CMR17-48\"/>\n      </g>\n     </g>\n    </g>\n   </g>\n   <g id=\"matplotlib.axis_2\">\n    <g id=\"ytick_1\">\n     <g id=\"line2d_7\">\n      <defs>\n       <path d=\"M 0 0 \nL -3.5 0 \n\" id=\"mdefedc89f1\" style=\"stroke:#000000;stroke-width:0.8;\"/>\n      </defs>\n      <g>\n       <use style=\"stroke:#000000;stroke-width:0.8;\" x=\"31.911414\" xlink:href=\"#mdefedc89f1\" y=\"241.709588\"/>\n      </g>\n     </g>\n     <g id=\"text_7\">\n      <!-- $0.0$ -->\n      <g transform=\"translate(12.181335 245.168837)scale(0.1 -0.1)\">\n       <use transform=\"scale(0.996264)\" xlink:href=\"#CMR17-48\"/>\n       <use transform=\"translate(45.690477 0)scale(0.996264)\" xlink:href=\"#CMMI12-58\"/>\n       <use transform=\"translate(72.787654 0)scale(0.996264)\" xlink:href=\"#CMR17-48\"/>\n      </g>\n     </g>\n    </g>\n    <g id=\"ytick_2\">\n     <g id=\"line2d_8\">\n      <g>\n       <use style=\"stroke:#000000;stroke-width:0.8;\" x=\"31.911414\" xlink:href=\"#mdefedc89f1\" y=\"213.099062\"/>\n      </g>\n     </g>\n     <g id=\"text_8\">\n      <!-- $2.5$ -->\n      <g transform=\"translate(12.181335 216.558311)scale(0.1 -0.1)\">\n       <use transform=\"scale(0.996264)\" xlink:href=\"#CMR17-50\"/>\n       <use transform=\"translate(45.690477 0)scale(0.996264)\" xlink:href=\"#CMMI12-58\"/>\n       <use transform=\"translate(72.787654 0)scale(0.996264)\" xlink:href=\"#CMR17-53\"/>\n      </g>\n     </g>\n    </g>\n    <g id=\"ytick_3\">\n     <g id=\"line2d_9\">\n      <g>\n       <use style=\"stroke:#000000;stroke-width:0.8;\" x=\"31.911414\" xlink:href=\"#mdefedc89f1\" y=\"184.488536\"/>\n      </g>\n     </g>\n     <g id=\"text_9\">\n      <!-- $5.0$ -->\n      <g transform=\"translate(12.181335 187.947785)scale(0.1 -0.1)\">\n       <use transform=\"scale(0.996264)\" xlink:href=\"#CMR17-53\"/>\n       <use transform=\"translate(45.690477 0)scale(0.996264)\" xlink:href=\"#CMMI12-58\"/>\n       <use transform=\"translate(72.787654 0)scale(0.996264)\" xlink:href=\"#CMR17-48\"/>\n      </g>\n     </g>\n    </g>\n    <g id=\"ytick_4\">\n     <g id=\"line2d_10\">\n      <g>\n       <use style=\"stroke:#000000;stroke-width:0.8;\" x=\"31.911414\" xlink:href=\"#mdefedc89f1\" y=\"155.878009\"/>\n      </g>\n     </g>\n     <g id=\"text_10\">\n      <!-- $7.5$ -->\n      <defs>\n       <path d=\"M 45.09375 61.578125 \nL 45.09375 63.765625 \nL 21.59375 63.765625 \nC 9.90625 63.765625 9.703125 65.078125 9.296875 67 \nL 7.5 67 \nL 4.59375 48.34375 \nL 6.40625 48.34375 \nC 6.703125 50.234375 7.40625 55.3125 8.59375 57.203125 \nC 9.203125 58 16.59375 58 18.296875 58 \nL 40.296875 58 \nL 29.203125 41.578125 \nC 21.796875 30.53125 16.703125 15.609375 16.703125 2.578125 \nC 16.703125 1.390625 16.703125 -2 20.296875 -2 \nC 23.90625 -2 23.90625 1.390625 23.90625 2.671875 \nL 23.90625 7.265625 \nC 23.90625 23.5625 26.703125 34.3125 31.296875 41.1875 \nz\n\" id=\"CMR17-55\"/>\n      </defs>\n      <g transform=\"translate(12.181335 159.337259)scale(0.1 -0.1)\">\n       <use transform=\"scale(0.996264)\" xlink:href=\"#CMR17-55\"/>\n       <use transform=\"translate(45.690477 0)scale(0.996264)\" xlink:href=\"#CMMI12-58\"/>\n       <use transform=\"translate(72.787654 0)scale(0.996264)\" xlink:href=\"#CMR17-53\"/>\n      </g>\n     </g>\n    </g>\n    <g id=\"ytick_5\">\n     <g id=\"line2d_11\">\n      <g>\n       <use style=\"stroke:#000000;stroke-width:0.8;\" x=\"31.911414\" xlink:href=\"#mdefedc89f1\" y=\"127.267483\"/>\n      </g>\n     </g>\n     <g id=\"text_11\">\n      <!-- $10.0$ -->\n      <g transform=\"translate(7.2 130.726732)scale(0.1 -0.1)\">\n       <use transform=\"scale(0.996264)\" xlink:href=\"#CMR17-49\"/>\n       <use transform=\"translate(45.690477 0)scale(0.996264)\" xlink:href=\"#CMR17-48\"/>\n       <use transform=\"translate(91.380954 0)scale(0.996264)\" xlink:href=\"#CMMI12-58\"/>\n       <use transform=\"translate(118.478131 0)scale(0.996264)\" xlink:href=\"#CMR17-48\"/>\n      </g>\n     </g>\n    </g>\n    <g id=\"ytick_6\">\n     <g id=\"line2d_12\">\n      <g>\n       <use style=\"stroke:#000000;stroke-width:0.8;\" x=\"31.911414\" xlink:href=\"#mdefedc89f1\" y=\"98.656957\"/>\n      </g>\n     </g>\n     <g id=\"text_12\">\n      <!-- $12.5$ -->\n      <g transform=\"translate(7.2 102.116206)scale(0.1 -0.1)\">\n       <use transform=\"scale(0.996264)\" xlink:href=\"#CMR17-49\"/>\n       <use transform=\"translate(45.690477 0)scale(0.996264)\" xlink:href=\"#CMR17-50\"/>\n       <use transform=\"translate(91.380954 0)scale(0.996264)\" xlink:href=\"#CMMI12-58\"/>\n       <use transform=\"translate(118.478131 0)scale(0.996264)\" xlink:href=\"#CMR17-53\"/>\n      </g>\n     </g>\n    </g>\n    <g id=\"ytick_7\">\n     <g id=\"line2d_13\">\n      <g>\n       <use style=\"stroke:#000000;stroke-width:0.8;\" x=\"31.911414\" xlink:href=\"#mdefedc89f1\" y=\"70.04643\"/>\n      </g>\n     </g>\n     <g id=\"text_13\">\n      <!-- $15.0$ -->\n      <g transform=\"translate(7.2 73.50568)scale(0.1 -0.1)\">\n       <use transform=\"scale(0.996264)\" xlink:href=\"#CMR17-49\"/>\n       <use transform=\"translate(45.690477 0)scale(0.996264)\" xlink:href=\"#CMR17-53\"/>\n       <use transform=\"translate(91.380954 0)scale(0.996264)\" xlink:href=\"#CMMI12-58\"/>\n       <use transform=\"translate(118.478131 0)scale(0.996264)\" xlink:href=\"#CMR17-48\"/>\n      </g>\n     </g>\n    </g>\n    <g id=\"ytick_8\">\n     <g id=\"line2d_14\">\n      <g>\n       <use style=\"stroke:#000000;stroke-width:0.8;\" x=\"31.911414\" xlink:href=\"#mdefedc89f1\" y=\"41.435904\"/>\n      </g>\n     </g>\n     <g id=\"text_14\">\n      <!-- $17.5$ -->\n      <g transform=\"translate(7.2 44.895153)scale(0.1 -0.1)\">\n       <use transform=\"scale(0.996264)\" xlink:href=\"#CMR17-49\"/>\n       <use transform=\"translate(45.690477 0)scale(0.996264)\" xlink:href=\"#CMR17-55\"/>\n       <use transform=\"translate(91.380954 0)scale(0.996264)\" xlink:href=\"#CMMI12-58\"/>\n       <use transform=\"translate(118.478131 0)scale(0.996264)\" xlink:href=\"#CMR17-53\"/>\n      </g>\n     </g>\n    </g>\n   </g>\n   <g id=\"patch_22\">\n    <path d=\"M 31.911414 241.709588 \nL 31.911414 24.269588 \n\" style=\"fill:none;stroke:#000000;stroke-linecap:square;stroke-linejoin:miter;stroke-width:0.8;\"/>\n   </g>\n   <g id=\"patch_23\">\n    <path d=\"M 366.711414 241.709588 \nL 366.711414 24.269588 \n\" style=\"fill:none;stroke:#000000;stroke-linecap:square;stroke-linejoin:miter;stroke-width:0.8;\"/>\n   </g>\n   <g id=\"patch_24\">\n    <path d=\"M 31.911414 241.709588 \nL 366.711414 241.709588 \n\" style=\"fill:none;stroke:#000000;stroke-linecap:square;stroke-linejoin:miter;stroke-width:0.8;\"/>\n   </g>\n   <g id=\"patch_25\">\n    <path d=\"M 31.911414 24.269588 \nL 366.711414 24.269588 \n\" style=\"fill:none;stroke:#000000;stroke-linecap:square;stroke-linejoin:miter;stroke-width:0.8;\"/>\n   </g>\n   <g id=\"text_15\">\n    <!-- Persistence barcode -->\n    <defs>\n     <path d=\"M 19.796875 31.90625 \nL 35.796875 31.90625 \nC 48.703125 31.90625 58.09375 40.28125 58.09375 49.75 \nC 58.09375 59.234375 48.90625 68 35.796875 68 \nL 5.203125 68 \nL 5.203125 65.40625 \nC 12.09375 65.40625 13.203125 65.40625 13.203125 60.921875 \nL 13.203125 6.96875 \nC 13.203125 2.5 12.09375 2.5 5.203125 2.5 \nL 5.203125 0 \nC 8.09375 0 13.40625 0 16.5 0 \nC 19.59375 0 24.90625 0 27.796875 0 \nL 27.796875 2.5 \nC 20.90625 2.5 19.796875 2.5 19.796875 6.96875 \nz\nM 19.59375 34 \nL 19.59375 61.53125 \nC 19.59375 64.921875 19.796875 65.40625 23.796875 65.40625 \nL 33.90625 65.40625 \nC 46.796875 65.40625 50.5 58.03125 50.5 49.75 \nC 50.5 40.6875 46.09375 34 33.90625 34 \nz\n\" id=\"CMR17-80\"/>\n     <path d=\"M 38.09375 23 \nC 38.5 23.40625 38.5 23.609375 38.5 24.625 \nC 38.5 34.96875 33.09375 44 21.703125 44 \nC 11.09375 44 2.703125 33.890625 2.703125 21.609375 \nC 2.703125 8.609375 12.203125 -1 22.796875 -1 \nC 34 -1 38.40625 9.484375 38.40625 11.5625 \nC 38.40625 12.25 37.796875 12.25 37.59375 12.25 \nC 36.90625 12.25 36.796875 12.046875 36.40625 10.875 \nC 34.203125 4.140625 28.703125 0.796875 23.5 0.796875 \nC 19.203125 0.796875 14.90625 3.171875 12.203125 7.5 \nC 9.09375 12.546875 9.09375 18.375 9.09375 23 \nz\nM 9.203125 24.5 \nC 9.90625 39.140625 17.59375 42.40625 21.59375 42.40625 \nC 28.40625 42.40625 33 35.890625 33.09375 24.5 \nz\n\" id=\"CMR17-101\"/>\n     <path d=\"M 15 23.390625 \nC 15 33 19.09375 42 26.59375 42 \nC 27.296875 42 28 41.90625 28.703125 41.59375 \nC 28.703125 41.59375 26.5 40.890625 26.5 38.3125 \nC 26.5 35.90625 28.40625 34.90625 29.90625 34.90625 \nC 31.09375 34.90625 33.296875 35.609375 33.296875 38.40625 \nC 33.296875 41.609375 30.09375 43.59375 26.703125 43.59375 \nC 19.09375 43.59375 15.796875 36.203125 14.796875 32.703125 \nL 14.703125 32.703125 \nL 14.703125 43.59375 \nL 3.09375 42.5 \nL 3.09375 39.90625 \nC 9 39.90625 9.90625 39.296875 9.90625 34.5 \nL 9.90625 6.6875 \nC 9.90625 2.875 9.5 2.390625 3.09375 2.390625 \nL 3.09375 -0.203125 \nC 5.5 0 10.09375 0 12.703125 0 \nC 15.59375 0 20.703125 0 23.40625 -0.203125 \nL 23.40625 2.390625 \nC 16.203125 2.390625 15 2.390625 15 6.875 \nz\n\" id=\"CMR17-114\"/>\n     <path d=\"M 30.90625 42.140625 \nC 30.90625 43.953125 30.796875 44.046875 30.203125 44.046875 \nC 29.796875 44.046875 29.703125 43.953125 28.5 42.453125 \nC 28.203125 42.046875 27.296875 41.03125 27 40.640625 \nC 23.796875 44.046875 19.296875 44.046875 17.59375 44.046875 \nC 6.5 44.046875 2.5 38.234375 2.5 32.4375 \nC 2.5 23.40625 12.703125 21.328125 15.59375 20.703125 \nC 21.90625 19.421875 24.09375 19.015625 26.203125 17.203125 \nC 27.5 16.015625 29.703125 13.8125 29.703125 10.21875 \nC 29.703125 6 27.296875 0.59375 18.09375 0.59375 \nC 9.40625 0.59375 6.296875 7.1875 4.5 15.953125 \nC 4.203125 17.34375 4.203125 17.453125 3.40625 17.453125 \nC 2.59375 17.453125 2.5 17.34375 2.5 15.359375 \nL 2.5 0.984375 \nC 2.5 -0.796875 2.59375 -0.90625 3.203125 -0.90625 \nC 3.703125 -0.90625 3.796875 -0.796875 4.296875 0 \nC 4.90625 0.890625 6.40625 3.296875 7 4.3125 \nC 9 1.609375 12.5 -1 18.09375 -1 \nC 28 -1 33.296875 4.421875 33.296875 12.25 \nC 33.296875 17.375 30.59375 20.078125 29.296875 21.28125 \nC 26.296875 24.390625 22.796875 25.09375 18.59375 25.890625 \nC 13.09375 27.109375 6.09375 28.515625 6.09375 34.640625 \nC 6.09375 37.234375 7.5 42.765625 17.59375 42.765625 \nC 28.296875 42.765625 28.90625 32.71875 29.09375 29.5 \nC 29.203125 29 29.703125 28.890625 30 28.890625 \nC 30.90625 28.890625 30.90625 29.203125 30.90625 30.90625 \nz\n\" id=\"CMR17-115\"/>\n     <path d=\"M 15.5 61.078125 \nC 15.5 63.265625 13.703125 65.15625 11.40625 65.15625 \nC 9.203125 65.15625 7.296875 63.375 7.296875 61.078125 \nC 7.296875 58.890625 9.09375 57 11.40625 57 \nC 13.59375 57 15.5 58.796875 15.5 61.078125 \nz\nM 3.796875 42.28125 \nL 3.796875 39.703125 \nC 9.40625 39.703125 10.203125 39.09375 10.203125 34.328125 \nL 10.203125 6.671875 \nC 10.203125 2.875 9.796875 2.390625 3.40625 2.390625 \nL 3.40625 -0.203125 \nC 5.796875 0 10.09375 0 12.59375 0 \nC 15 0 19.09375 0 21.40625 -0.203125 \nL 21.40625 2.390625 \nC 15.5 2.390625 15.296875 2.984375 15.296875 6.5625 \nL 15.296875 43.375 \nz\n\" id=\"CMR17-105\"/>\n     <path d=\"M 15.09375 40 \nL 29.09375 40 \nL 29.09375 42.578125 \nL 15.09375 42.578125 \nL 15.09375 61 \nL 13.296875 61 \nC 13.09375 50.703125 9.59375 41.6875 1.09375 41.6875 \nL 1.09375 40 \nL 9.796875 40 \nL 9.796875 12.046875 \nC 9.796875 10.15625 9.796875 -1 21.40625 -1 \nC 27.296875 -1 30.703125 4.78125 30.703125 12.140625 \nL 30.703125 17.8125 \nL 28.90625 17.8125 \nL 28.90625 12.234375 \nC 28.90625 5.375 26.203125 0.796875 22 0.796875 \nC 19.09375 0.796875 15.09375 2.78125 15.09375 11.84375 \nz\n\" id=\"CMR17-116\"/>\n     <path d=\"M 41.5 30.203125 \nC 41.5 35.296875 40.5 43.59375 28.703125 43.59375 \nC 20.796875 43.59375 16.703125 37.5 15.203125 33.5 \nL 15.09375 33.5 \nL 15.09375 43.59375 \nL 3.296875 42.5 \nL 3.296875 39.90625 \nC 9.203125 39.90625 10.09375 39.296875 10.09375 34.5 \nL 10.09375 6.6875 \nC 10.09375 2.875 9.703125 2.390625 3.296875 2.390625 \nL 3.296875 -0.203125 \nC 5.703125 0 10.09375 0 12.703125 0 \nC 15.296875 0 19.796875 0 22.203125 -0.203125 \nL 22.203125 2.390625 \nC 15.796875 2.390625 15.40625 2.78125 15.40625 6.6875 \nL 15.40625 25.90625 \nC 15.40625 35.109375 21 42 28 42 \nC 35.40625 42 36.203125 35.40625 36.203125 30.59375 \nL 36.203125 6.6875 \nC 36.203125 2.875 35.796875 2.390625 29.40625 2.390625 \nL 29.40625 -0.203125 \nC 31.796875 0 36.203125 0 38.796875 0 \nC 41.40625 0 45.90625 0 48.296875 -0.203125 \nL 48.296875 2.390625 \nC 41.90625 2.390625 41.5 2.78125 41.5 6.6875 \nz\n\" id=\"CMR17-110\"/>\n     <path d=\"M 34.90625 35 \nC 33 35 30.203125 35 30.203125 31.515625 \nC 30.203125 28.71875 32.5 27.921875 33.796875 27.921875 \nC 34.5 27.921875 37.40625 28.234375 37.40625 31.625 \nC 37.40625 38.546875 30.59375 43.796875 22.90625 43.796875 \nC 12.296875 43.796875 3.296875 34.03125 3.296875 21.296875 \nC 3.296875 8.0625 12.703125 -1 22.90625 -1 \nC 35.296875 -1 38.40625 10.578125 38.40625 11.6875 \nC 38.40625 12.09375 38.296875 12.390625 37.59375 12.390625 \nC 36.90625 12.390625 36.796875 12.296875 36.40625 10.984375 \nC 33.796875 2.8125 28.09375 0.796875 23.796875 0.796875 \nC 17.40625 0.796875 9.703125 6.671875 9.703125 21.390625 \nC 9.703125 36.53125 17.09375 42 23 42 \nC 26.90625 42 32.703125 40.203125 34.90625 35 \nz\n\" id=\"CMR17-99\"/>\n     <path d=\"M 15 68.6875 \nL 3.09375 67.59375 \nL 3.09375 65 \nC 9 65 9.90625 64.40625 9.90625 59.640625 \nL 9.90625 -0.203125 \nL 11.703125 -0.203125 \nL 14.59375 6.890625 \nC 17.5 2.203125 21.796875 -1 27.59375 -1 \nC 37.59375 -1 47.703125 7.8125 47.703125 21.40625 \nC 47.703125 34.1875 38.703125 43.59375 28.59375 43.59375 \nC 22.40625 43.59375 18 40.296875 15 36.40625 \nz\nM 15.203125 31.3125 \nC 15.203125 33.09375 15.203125 33.40625 16.59375 35.5 \nC 20.5 41.515625 26.09375 42 28 42 \nC 31 42 41.296875 40.390625 41.296875 21.5 \nC 41.296875 1.6875 29.5 0.59375 27.09375 0.59375 \nC 24 0.59375 19.5 1.78125 16.296875 7.59375 \nC 15.203125 9.5 15.203125 9.703125 15.203125 11.484375 \nz\n\" id=\"CMR17-98\"/>\n     <path d=\"M 36 25.828125 \nC 36 32.375 36 35.84375 31.796875 39.734375 \nC 28.09375 43 23.796875 44 20.40625 44 \nC 12.5 44 6.796875 37.609375 6.796875 30.796875 \nC 6.796875 27 9.796875 27 10.40625 27 \nC 11.703125 27 14 27.78125 14 30.53125 \nC 14 33 12.09375 34.078125 10.40625 34.078125 \nC 10 34.078125 9.5 33.96875 9.203125 33.875 \nC 11.296875 40.5 16.703125 42.40625 20.203125 42.40625 \nC 25.203125 42.40625 30.703125 37.953125 30.703125 29.453125 \nL 30.703125 25 \nC 24.796875 25 17.703125 24.203125 12.09375 21.203125 \nC 5.796875 17.703125 4 12.703125 4 8.90625 \nC 4 1.203125 13 -1 18.296875 -1 \nC 23.796875 -1 28.90625 2.171875 31.09375 7.984375 \nC 31.296875 3.640625 34.09375 -0.28125 38.5 -0.28125 \nC 40.59375 -0.28125 45.90625 1.09375 45.90625 8.859375 \nL 45.90625 14.375 \nL 44.09375 14.375 \nL 44.09375 8.78125 \nC 44.09375 2.78125 41.40625 2 40.09375 2 \nC 36 2 36 7.15625 36 11.53125 \nz\nM 30.703125 13.59375 \nC 30.703125 4.953125 24.5 0.59375 19 0.59375 \nC 14 0.59375 10.09375 4.296875 10.09375 8.90625 \nC 10.09375 11.890625 11.40625 17.1875 17.203125 20.390625 \nC 22 23.09375 27.5 23.5 30.703125 23.5 \nz\n\" id=\"CMR17-97\"/>\n     <path d=\"M 43.09375 21.1875 \nC 43.09375 34 33.796875 44 22.90625 44 \nC 12 44 2.703125 34 2.703125 21.1875 \nC 2.703125 8.609375 12 -1 22.90625 -1 \nC 33.796875 -1 43.09375 8.609375 43.09375 21.1875 \nz\nM 22.90625 0.796875 \nC 18.203125 0.796875 14.203125 3.59375 11.90625 7.5 \nC 9.40625 11.984375 9.09375 17.59375 9.09375 22 \nC 9.09375 26.203125 9.296875 31.40625 11.90625 35.90625 \nC 13.90625 39.203125 17.796875 42.40625 22.90625 42.40625 \nC 27.40625 42.40625 31.203125 39.90625 33.59375 36.40625 \nC 36.703125 31.703125 36.703125 25.109375 36.703125 22 \nC 36.703125 18.09375 36.5 12.109375 33.796875 7.296875 \nC 31 2.703125 26.703125 0.796875 22.90625 0.796875 \nz\n\" id=\"CMR17-111\"/>\n     <path d=\"M 29.203125 67.59375 \nL 29.203125 65 \nC 35.09375 65 36 64.40625 36 59.6875 \nL 36 36.640625 \nC 35.59375 37.140625 31.5 43.59375 23.40625 43.59375 \nC 13.203125 43.59375 3.296875 34.5 3.296875 21.3125 \nC 3.296875 8.203125 12.59375 -1 22.40625 -1 \nC 30.90625 -1 35.296875 5.265625 35.796875 5.9375 \nL 35.796875 -0.984375 \nL 47.90625 -0.984375 \nL 47.90625 2 \nC 42 2 41.09375 2.59375 41.09375 7.390625 \nL 41.09375 68.6875 \nz\nM 35.796875 11.796875 \nC 35.796875 8.796875 34 6.09375 31.703125 4.09375 \nC 28.296875 1.09375 24.90625 0.59375 23 0.59375 \nC 20.09375 0.59375 9.703125 2.09375 9.703125 21.1875 \nC 9.703125 40.8125 21.296875 42 23.90625 42 \nC 28.5 42 32.203125 39.40625 34.5 35.796875 \nC 35.796875 33.703125 35.796875 33.40625 35.796875 31.609375 \nz\n\" id=\"CMR17-100\"/>\n    </defs>\n    <g transform=\"translate(132.350246 18.269588)scale(0.16 -0.16)\">\n     <use transform=\"scale(0.996264)\" xlink:href=\"#CMR17-80\"/>\n     <use transform=\"translate(59.983847 0)scale(0.996264)\" xlink:href=\"#CMR17-101\"/>\n     <use transform=\"translate(100.469507 0)scale(0.996264)\" xlink:href=\"#CMR17-114\"/>\n     <use transform=\"translate(135.750275 0)scale(0.996264)\" xlink:href=\"#CMR17-115\"/>\n     <use transform=\"translate(171.551612 0)scale(0.996264)\" xlink:href=\"#CMR17-105\"/>\n     <use transform=\"translate(196.422671 0)scale(0.996264)\" xlink:href=\"#CMR17-115\"/>\n     <use transform=\"translate(232.224009 0)scale(0.996264)\" xlink:href=\"#CMR17-116\"/>\n     <use transform=\"translate(267.504776 0)scale(0.996264)\" xlink:href=\"#CMR17-101\"/>\n     <use transform=\"translate(307.990437 0)scale(0.996264)\" xlink:href=\"#CMR17-110\"/>\n     <use transform=\"translate(358.885807 0)scale(0.996264)\" xlink:href=\"#CMR17-99\"/>\n     <use transform=\"translate(399.371467 0)scale(0.996264)\" xlink:href=\"#CMR17-101\"/>\n     <use transform=\"translate(469.933094 0)scale(0.996264)\" xlink:href=\"#CMR17-98\"/>\n     <use transform=\"translate(520.828464 0)scale(0.996264)\" xlink:href=\"#CMR17-97\"/>\n     <use transform=\"translate(566.518941 0)scale(0.996264)\" xlink:href=\"#CMR17-114\"/>\n     <use transform=\"translate(601.799709 0)scale(0.996264)\" xlink:href=\"#CMR17-99\"/>\n     <use transform=\"translate(642.285369 0)scale(0.996264)\" xlink:href=\"#CMR17-111\"/>\n     <use transform=\"translate(690.578285 0)scale(0.996264)\" xlink:href=\"#CMR17-100\"/>\n     <use transform=\"translate(741.473655 0)scale(0.996264)\" xlink:href=\"#CMR17-101\"/>\n    </g>\n   </g>\n  </g>\n </g>\n <defs>\n  <clipPath id=\"p57ed243e9b\">\n   <rect height=\"217.44\" width=\"334.8\" x=\"31.911414\" y=\"24.269588\"/>\n  </clipPath>\n </defs>\n</svg>\n",
      "image/png": "[encoded data removed]"
     },
     "metadata": {
      "needs_background": "light"
     }
    }
   ],
   "source": [
    "gudhi.plot_persistence_barcode(BarCodes_Rips0)"
   ]
  },
  {
   "cell_type": "code",
   "execution_count": 6,
   "metadata": {},
   "outputs": [
    {
     "output_type": "execute_result",
     "data": {
      "text/plain": "<matplotlib.axes._subplots.AxesSubplot at 0x120025f40>"
     },
     "metadata": {},
     "execution_count": 6
    },
    {
     "output_type": "display_data",
     "data": {
      "text/plain": "<Figure size 432x288 with 1 Axes>",
      "image/svg+xml": "<?xml version=\"1.0\" encoding=\"utf-8\" standalone=\"no\"?>\n<!DOCTYPE svg PUBLIC \"-//W3C//DTD SVG 1.1//EN\"\n  \"http://www.w3.org/Graphics/SVG/1.1/DTD/svg11.dtd\">\n<!-- Created with matplotlib (https://matplotlib.org/) -->\n<svg height=\"282.934329pt\" version=\"1.1\" viewBox=\"0 0 392.080479 282.934329\" width=\"392.080479pt\" xmlns=\"http://www.w3.org/2000/svg\" xmlns:xlink=\"http://www.w3.org/1999/xlink\">\n <defs>\n  <style type=\"text/css\">\n*{stroke-linecap:butt;stroke-linejoin:round;}\n  </style>\n </defs>\n <g id=\"figure_1\">\n  <g id=\"patch_1\">\n   <path d=\"M 0 282.934329 \nL 392.080479 282.934329 \nL 392.080479 0 \nL 0 0 \nz\n\" style=\"fill:none;\"/>\n  </g>\n  <g id=\"axes_1\">\n   <g id=\"patch_2\">\n    <path d=\"M 50.080479 241.709588 \nL 384.880479 241.709588 \nL 384.880479 24.269588 \nL 50.080479 24.269588 \nz\n\" style=\"fill:#ffffff;\"/>\n   </g>\n   <g id=\"PathCollection_1\">\n    <defs>\n     <path d=\"M 0 3 \nC 0.795609 3 1.55874 2.683901 2.12132 2.12132 \nC 2.683901 1.55874 3 0.795609 3 0 \nC 3 -0.795609 2.683901 -1.55874 2.12132 -2.12132 \nC 1.55874 -2.683901 0.795609 -3 0 -3 \nC -0.795609 -3 -1.55874 -2.683901 -2.12132 -2.12132 \nC -2.683901 -1.55874 -3 -0.795609 -3 0 \nC -3 0.795609 -2.683901 1.55874 -2.12132 2.12132 \nC -1.55874 2.683901 -0.795609 3 0 3 \nz\n\" id=\"m062662ccef\" style=\"stroke:#377eb8;stroke-opacity:0.6;\"/>\n    </defs>\n    <g clip-path=\"url(#p3953f5e936)\">\n     <use style=\"fill:#377eb8;fill-opacity:0.6;stroke:#377eb8;stroke-opacity:0.6;\" x=\"79.193522\" xlink:href=\"#m062662ccef\" y=\"224.227243\"/>\n    </g>\n   </g>\n   <g id=\"PathCollection_2\">\n    <g clip-path=\"url(#p3953f5e936)\">\n     <use style=\"fill:#377eb8;fill-opacity:0.6;stroke:#377eb8;stroke-opacity:0.6;\" x=\"352.377277\" xlink:href=\"#m062662ccef\" y=\"60.867944\"/>\n    </g>\n   </g>\n   <g id=\"PathCollection_3\">\n    <g clip-path=\"url(#p3953f5e936)\">\n     <use style=\"fill:#377eb8;fill-opacity:0.6;stroke:#377eb8;stroke-opacity:0.6;\" x=\"262.619182\" xlink:href=\"#m062662ccef\" y=\"114.407278\"/>\n    </g>\n   </g>\n   <g id=\"PathCollection_4\">\n    <g clip-path=\"url(#p3953f5e936)\">\n     <use style=\"fill:#377eb8;fill-opacity:0.6;stroke:#377eb8;stroke-opacity:0.6;\" x=\"267.250372\" xlink:href=\"#m062662ccef\" y=\"111.311315\"/>\n    </g>\n   </g>\n   <g id=\"PathCollection_5\">\n    <g clip-path=\"url(#p3953f5e936)\">\n     <use style=\"fill:#377eb8;fill-opacity:0.6;stroke:#377eb8;stroke-opacity:0.6;\" x=\"128.060693\" xlink:href=\"#m062662ccef\" y=\"194.228628\"/>\n    </g>\n   </g>\n   <g id=\"PathCollection_6\">\n    <g clip-path=\"url(#p3953f5e936)\">\n     <use style=\"fill:#377eb8;fill-opacity:0.6;stroke:#377eb8;stroke-opacity:0.6;\" x=\"267.626984\" xlink:href=\"#m062662ccef\" y=\"110.64967\"/>\n    </g>\n   </g>\n   <g id=\"PathCollection_7\">\n    <g clip-path=\"url(#p3953f5e936)\">\n     <use style=\"fill:#377eb8;fill-opacity:0.6;stroke:#377eb8;stroke-opacity:0.6;\" x=\"265.021501\" xlink:href=\"#m062662ccef\" y=\"111.21123\"/>\n    </g>\n   </g>\n   <g id=\"PathCollection_8\">\n    <g clip-path=\"url(#p3953f5e936)\">\n     <use style=\"fill:#377eb8;fill-opacity:0.6;stroke:#377eb8;stroke-opacity:0.6;\" x=\"341.046466\" xlink:href=\"#m062662ccef\" y=\"65.157853\"/>\n    </g>\n   </g>\n   <g id=\"PathCollection_9\">\n    <g clip-path=\"url(#p3953f5e936)\">\n     <use style=\"fill:#377eb8;fill-opacity:0.6;stroke:#377eb8;stroke-opacity:0.6;\" x=\"268.044879\" xlink:href=\"#m062662ccef\" y=\"108.705206\"/>\n    </g>\n   </g>\n   <g id=\"PathCollection_10\">\n    <g clip-path=\"url(#p3953f5e936)\">\n     <use style=\"fill:#377eb8;fill-opacity:0.6;stroke:#377eb8;stroke-opacity:0.6;\" x=\"269.215847\" xlink:href=\"#m062662ccef\" y=\"106.341782\"/>\n    </g>\n   </g>\n   <g id=\"PathCollection_11\">\n    <g clip-path=\"url(#p3953f5e936)\">\n     <use style=\"fill:#377eb8;fill-opacity:0.6;stroke:#377eb8;stroke-opacity:0.6;\" x=\"89.796022\" xlink:href=\"#m062662ccef\" y=\"213.227403\"/>\n    </g>\n   </g>\n   <g id=\"PathCollection_12\">\n    <g clip-path=\"url(#p3953f5e936)\">\n     <use style=\"fill:#377eb8;fill-opacity:0.6;stroke:#377eb8;stroke-opacity:0.6;\" x=\"259.764001\" xlink:href=\"#m062662ccef\" y=\"103.907638\"/>\n    </g>\n   </g>\n   <g id=\"PathCollection_13\">\n    <g clip-path=\"url(#p3953f5e936)\">\n     <use style=\"fill:#377eb8;fill-opacity:0.6;stroke:#377eb8;stroke-opacity:0.6;\" x=\"223.181574\" xlink:href=\"#m062662ccef\" y=\"123.353902\"/>\n    </g>\n   </g>\n   <g id=\"PathCollection_14\">\n    <g clip-path=\"url(#p3953f5e936)\">\n     <use style=\"fill:#377eb8;fill-opacity:0.6;stroke:#377eb8;stroke-opacity:0.6;\" x=\"339.88863\" xlink:href=\"#m062662ccef\" y=\"52.948798\"/>\n    </g>\n   </g>\n   <g id=\"PathCollection_15\">\n    <g clip-path=\"url(#p3953f5e936)\">\n     <use style=\"fill:#377eb8;fill-opacity:0.6;stroke:#377eb8;stroke-opacity:0.6;\" x=\"260.317673\" xlink:href=\"#m062662ccef\" y=\"98.067105\"/>\n    </g>\n   </g>\n   <g id=\"PathCollection_16\">\n    <g clip-path=\"url(#p3953f5e936)\">\n     <use style=\"fill:#377eb8;fill-opacity:0.6;stroke:#377eb8;stroke-opacity:0.6;\" x=\"197.323919\" xlink:href=\"#m062662ccef\" y=\"128.825248\"/>\n    </g>\n   </g>\n   <g id=\"PathCollection_17\">\n    <g clip-path=\"url(#p3953f5e936)\">\n     <use style=\"fill:#377eb8;fill-opacity:0.6;stroke:#377eb8;stroke-opacity:0.6;\" x=\"190.644811\" xlink:href=\"#m062662ccef\" y=\"104.96527\"/>\n    </g>\n   </g>\n   <g id=\"PathCollection_18\">\n    <g clip-path=\"url(#p3953f5e936)\">\n     <use style=\"fill:#377eb8;fill-opacity:0.6;stroke:#377eb8;stroke-opacity:0.6;\" x=\"157.370474\" xlink:href=\"#m062662ccef\" y=\"107.372261\"/>\n    </g>\n   </g>\n   <g id=\"PathCollection_19\">\n    <g clip-path=\"url(#p3953f5e936)\">\n     <use style=\"fill:#377eb8;fill-opacity:0.6;stroke:#377eb8;stroke-opacity:0.6;\" x=\"234.277132\" xlink:href=\"#m062662ccef\" y=\"50.362388\"/>\n    </g>\n   </g>\n   <g id=\"patch_3\">\n    <path clip-path=\"url(#p3953f5e936)\" d=\"M 50.080479 241.709588 \nL 384.880479 241.709588 \nL 384.880479 41.664788 \nz\n\" style=\"fill:#d3d3d3;stroke:#d3d3d3;stroke-linejoin:miter;\"/>\n   </g>\n   <g id=\"matplotlib.axis_1\">\n    <g id=\"xtick_1\">\n     <g id=\"line2d_1\">\n      <defs>\n       <path d=\"M 0 0 \nL 0 3.5 \n\" id=\"mc5359319f2\" style=\"stroke:#000000;stroke-width:0.8;\"/>\n      </defs>\n      <g>\n       <use style=\"stroke:#000000;stroke-width:0.8;\" x=\"97.682603\" xlink:href=\"#mc5359319f2\" y=\"241.709588\"/>\n      </g>\n     </g>\n     <g id=\"text_1\">\n      <!-- $0.05$ -->\n      <defs>\n       <path d=\"M 42 31.640625 \nC 42 37.75 41.90625 48.125 37.703125 56.109375 \nC 34 63.109375 28.09375 65.59375 22.90625 65.59375 \nC 18.09375 65.59375 12 63.40625 8.203125 56.203125 \nC 4.203125 48.71875 3.796875 39.4375 3.796875 31.640625 \nC 3.796875 25.953125 3.90625 17.28125 7 9.671875 \nC 11.296875 -0.609375 19 -2 22.90625 -2 \nC 27.5 -2 34.5 -0.109375 38.59375 9.375 \nC 41.59375 16.28125 42 24.359375 42 31.640625 \nz\nM 22.90625 -0.40625 \nC 16.5 -0.40625 12.703125 5.078125 11.296875 12.6875 \nC 10.203125 18.5625 10.203125 27.15625 10.203125 32.75 \nC 10.203125 40.4375 10.203125 46.828125 11.5 52.921875 \nC 13.40625 61.390625 19 64 22.90625 64 \nC 27 64 32.296875 61.296875 34.203125 53.125 \nC 35.5 47.4375 35.59375 40.734375 35.59375 32.75 \nC 35.59375 26.25 35.59375 18.265625 34.40625 12.375 \nC 32.296875 1.484375 26.40625 -0.40625 22.90625 -0.40625 \nz\n\" id=\"CMR17-48\"/>\n       <path d=\"M 18.40625 4.796875 \nC 18.40625 7.6875 16 9.671875 13.59375 9.671875 \nC 10.703125 9.671875 8.703125 7.28125 8.703125 4.890625 \nC 8.703125 2 11.09375 0 13.5 0 \nC 16.40625 0 18.40625 2.390625 18.40625 4.796875 \nz\n\" id=\"CMMI12-58\"/>\n       <path d=\"M 11.40625 57.6875 \nC 12.40625 57.28125 16.5 56 20.703125 56 \nC 30 56 35.09375 61.109375 38 64.0625 \nC 38 64.953125 38 65.5 37.40625 65.5 \nC 37.296875 65.5 37.09375 65.5 36.296875 65.046875 \nC 32.796875 63.40625 28.703125 62.078125 23.703125 62.078125 \nC 20.703125 62.078125 16.203125 62.484375 11.296875 64.671875 \nC 10.203125 65.171875 10 65.171875 9.90625 65.171875 \nC 9.40625 65.171875 9.296875 65.0625 9.296875 63.078125 \nL 9.296875 34.421875 \nC 9.296875 32.640625 9.296875 32.140625 10.296875 32.140625 \nC 10.796875 32.140625 11 32.34375 11.5 33.03125 \nC 14.703125 37.515625 19.09375 39.40625 24.09375 39.40625 \nC 27.59375 39.40625 35.09375 37.21875 35.09375 20.140625 \nC 35.09375 16.953125 35.09375 11.171875 32.09375 6.578125 \nC 29.59375 2.484375 25.703125 0.390625 21.40625 0.390625 \nC 14.796875 0.390625 8.09375 5 6.296875 12.71875 \nC 6.703125 12.609375 7.5 12.421875 7.90625 12.421875 \nC 9.203125 12.421875 11.703125 13.125 11.703125 16.21875 \nC 11.703125 18.90625 9.796875 20 7.90625 20 \nC 5.59375 20 4.09375 18.59375 4.09375 15.796875 \nC 4.09375 7.09375 11 -2 21.59375 -2 \nC 31.90625 -2 41.703125 6.875 41.703125 19.75 \nC 41.703125 31.71875 33.90625 41 24.203125 41 \nC 19.09375 41 14.796875 39.109375 11.40625 35.53125 \nz\n\" id=\"CMR17-53\"/>\n      </defs>\n      <g transform=\"translate(88.826896 255.628087)scale(0.1 -0.1)\">\n       <use transform=\"scale(0.996264)\" xlink:href=\"#CMR17-48\"/>\n       <use transform=\"translate(45.690477 0)scale(0.996264)\" xlink:href=\"#CMMI12-58\"/>\n       <use transform=\"translate(72.787654 0)scale(0.996264)\" xlink:href=\"#CMR17-48\"/>\n       <use transform=\"translate(118.478131 0)scale(0.996264)\" xlink:href=\"#CMR17-53\"/>\n      </g>\n     </g>\n    </g>\n    <g id=\"xtick_2\">\n     <g id=\"line2d_2\">\n      <g>\n       <use style=\"stroke:#000000;stroke-width:0.8;\" x=\"148.498123\" xlink:href=\"#mc5359319f2\" y=\"241.709588\"/>\n      </g>\n     </g>\n     <g id=\"text_2\">\n      <!-- $0.10$ -->\n      <defs>\n       <path d=\"M 26.59375 63.40625 \nC 26.59375 65.5 26.5 65.5 25.09375 65.5 \nC 21.203125 61.1875 15.296875 59.796875 9.703125 59.796875 \nC 9.40625 59.796875 8.90625 59.796875 8.796875 59.5 \nC 8.703125 59.296875 8.703125 59.09375 8.703125 57 \nC 11.796875 57 17 57.59375 21 59.984375 \nL 21 7.203125 \nC 21 3.6875 20.796875 2.5 12.203125 2.5 \nL 9.203125 2.5 \nL 9.203125 0 \nC 14 0 19 0 23.796875 0 \nC 28.59375 0 33.59375 0 38.40625 0 \nL 38.40625 2.5 \nL 35.40625 2.5 \nC 26.796875 2.5 26.59375 3.59375 26.59375 7.15625 \nz\n\" id=\"CMR17-49\"/>\n      </defs>\n      <g transform=\"translate(139.642416 255.628087)scale(0.1 -0.1)\">\n       <use transform=\"scale(0.996264)\" xlink:href=\"#CMR17-48\"/>\n       <use transform=\"translate(45.690477 0)scale(0.996264)\" xlink:href=\"#CMMI12-58\"/>\n       <use transform=\"translate(72.787654 0)scale(0.996264)\" xlink:href=\"#CMR17-49\"/>\n       <use transform=\"translate(118.478131 0)scale(0.996264)\" xlink:href=\"#CMR17-48\"/>\n      </g>\n     </g>\n    </g>\n    <g id=\"xtick_3\">\n     <g id=\"line2d_3\">\n      <g>\n       <use style=\"stroke:#000000;stroke-width:0.8;\" x=\"199.313642\" xlink:href=\"#mc5359319f2\" y=\"241.709588\"/>\n      </g>\n     </g>\n     <g id=\"text_3\">\n      <!-- $0.15$ -->\n      <g transform=\"translate(190.457935 255.628087)scale(0.1 -0.1)\">\n       <use transform=\"scale(0.996264)\" xlink:href=\"#CMR17-48\"/>\n       <use transform=\"translate(45.690477 0)scale(0.996264)\" xlink:href=\"#CMMI12-58\"/>\n       <use transform=\"translate(72.787654 0)scale(0.996264)\" xlink:href=\"#CMR17-49\"/>\n       <use transform=\"translate(118.478131 0)scale(0.996264)\" xlink:href=\"#CMR17-53\"/>\n      </g>\n     </g>\n    </g>\n    <g id=\"xtick_4\">\n     <g id=\"line2d_4\">\n      <g>\n       <use style=\"stroke:#000000;stroke-width:0.8;\" x=\"250.129162\" xlink:href=\"#mc5359319f2\" y=\"241.709588\"/>\n      </g>\n     </g>\n     <g id=\"text_4\">\n      <!-- $0.20$ -->\n      <defs>\n       <path d=\"M 41.703125 15.453125 \nL 39.90625 15.453125 \nC 38.90625 8.375 38.09375 7.171875 37.703125 6.5625 \nC 37.203125 5.765625 30 5.765625 28.59375 5.765625 \nL 9.40625 5.765625 \nC 13 9.671875 20 16.75 28.5 24.953125 \nC 34.59375 30.734375 41.703125 37.53125 41.703125 47.421875 \nC 41.703125 59.21875 32.296875 66 21.796875 66 \nC 10.796875 66 4.09375 56.3125 4.09375 47.34375 \nC 4.09375 43.4375 7 42.9375 8.203125 42.9375 \nC 9.203125 42.9375 12.203125 43.546875 12.203125 47.03125 \nC 12.203125 50.109375 9.59375 51 8.203125 51 \nC 7.59375 51 7 50.90625 6.59375 50.703125 \nC 8.5 59.21875 14.296875 63.40625 20.40625 63.40625 \nC 29.09375 63.40625 34.796875 56.515625 34.796875 47.421875 \nC 34.796875 38.734375 29.703125 31.25 24 24.75 \nL 4.09375 2.28125 \nL 4.09375 0 \nL 39.296875 0 \nz\n\" id=\"CMR17-50\"/>\n      </defs>\n      <g transform=\"translate(241.273454 255.628087)scale(0.1 -0.1)\">\n       <use transform=\"scale(0.996264)\" xlink:href=\"#CMR17-48\"/>\n       <use transform=\"translate(45.690477 0)scale(0.996264)\" xlink:href=\"#CMMI12-58\"/>\n       <use transform=\"translate(72.787654 0)scale(0.996264)\" xlink:href=\"#CMR17-50\"/>\n       <use transform=\"translate(118.478131 0)scale(0.996264)\" xlink:href=\"#CMR17-48\"/>\n      </g>\n     </g>\n    </g>\n    <g id=\"xtick_5\">\n     <g id=\"line2d_5\">\n      <g>\n       <use style=\"stroke:#000000;stroke-width:0.8;\" x=\"300.944681\" xlink:href=\"#mc5359319f2\" y=\"241.709588\"/>\n      </g>\n     </g>\n     <g id=\"text_5\">\n      <!-- $0.25$ -->\n      <g transform=\"translate(292.088974 255.628087)scale(0.1 -0.1)\">\n       <use transform=\"scale(0.996264)\" xlink:href=\"#CMR17-48\"/>\n       <use transform=\"translate(45.690477 0)scale(0.996264)\" xlink:href=\"#CMMI12-58\"/>\n       <use transform=\"translate(72.787654 0)scale(0.996264)\" xlink:href=\"#CMR17-50\"/>\n       <use transform=\"translate(118.478131 0)scale(0.996264)\" xlink:href=\"#CMR17-53\"/>\n      </g>\n     </g>\n    </g>\n    <g id=\"xtick_6\">\n     <g id=\"line2d_6\">\n      <g>\n       <use style=\"stroke:#000000;stroke-width:0.8;\" x=\"351.7602\" xlink:href=\"#mc5359319f2\" y=\"241.709588\"/>\n      </g>\n     </g>\n     <g id=\"text_6\">\n      <!-- $0.30$ -->\n      <defs>\n       <path d=\"M 22.09375 33.703125 \nC 31 33.703125 34.90625 25.96875 34.90625 17.03125 \nC 34.90625 5 28.5 0.390625 22.703125 0.390625 \nC 17.40625 0.390625 8.796875 3.03125 6.09375 10.828125 \nC 6.59375 10.625 7.09375 10.625 7.59375 10.625 \nC 10 10.625 11.796875 12.21875 11.796875 14.8125 \nC 11.796875 17.703125 9.59375 19 7.59375 19 \nC 5.90625 19 3.296875 18.203125 3.296875 14.46875 \nC 3.296875 5.234375 12.296875 -2 22.90625 -2 \nC 34 -2 42.5 6.71875 42.5 16.953125 \nC 42.5 26.671875 34.5 33.703125 25 34.796875 \nC 32.59375 36.375 39.90625 43.0625 39.90625 52.015625 \nC 39.90625 59.6875 32 65.296875 23 65.296875 \nC 13.90625 65.296875 5.90625 59.828125 5.90625 52.015625 \nC 5.90625 48.59375 8.5 48 9.796875 48 \nC 11.90625 48 13.703125 49.296875 13.703125 51.890625 \nC 13.703125 54.46875 11.90625 55.765625 9.796875 55.765625 \nC 9.40625 55.765625 8.90625 55.765625 8.5 55.578125 \nC 11.40625 61.859375 19.296875 63 22.796875 63 \nC 26.296875 63 32.90625 61.328125 32.90625 51.875 \nC 32.90625 49.109375 32.5 44.1875 29.09375 39.84375 \nC 26.09375 36 22.703125 36 19.40625 35.6875 \nC 18.90625 35.6875 16.59375 35.453125 16.203125 35.453125 \nC 15.5 35.359375 15.09375 35.265625 15.09375 34.5 \nC 15.09375 33.796875 15.203125 33.703125 17.203125 33.703125 \nz\n\" id=\"CMR17-51\"/>\n      </defs>\n      <g transform=\"translate(342.904493 255.628087)scale(0.1 -0.1)\">\n       <use transform=\"scale(0.996264)\" xlink:href=\"#CMR17-48\"/>\n       <use transform=\"translate(45.690477 0)scale(0.996264)\" xlink:href=\"#CMMI12-58\"/>\n       <use transform=\"translate(72.787654 0)scale(0.996264)\" xlink:href=\"#CMR17-51\"/>\n       <use transform=\"translate(118.478131 0)scale(0.996264)\" xlink:href=\"#CMR17-48\"/>\n      </g>\n     </g>\n    </g>\n    <g id=\"text_7\">\n     <!-- Birth -->\n     <defs>\n      <path d=\"M 5.203125 68 \nL 5.203125 65.40625 \nC 12.09375 65.40625 13.203125 65.40625 13.203125 60.9375 \nL 13.203125 7.0625 \nC 13.203125 2.59375 12.09375 2.59375 5.203125 2.59375 \nL 5.203125 0 \nL 39.59375 0 \nC 52.40625 0 60.703125 9.109375 60.703125 18.1875 \nC 60.703125 27.203125 52.5 34.890625 41.796875 34.890625 \nC 51.40625 36.8125 58.09375 43.296875 58.09375 51 \nC 58.09375 59.40625 49.90625 68 37 68 \nz\nM 19.5 36 \nL 19.5 61.515625 \nC 19.5 64.921875 19.703125 65.40625 23.703125 65.40625 \nL 36.5 65.40625 \nC 46.40625 65.40625 50.796875 57.40625 50.796875 51.203125 \nC 50.796875 43.609375 44.703125 36 33.90625 36 \nz\nM 23.703125 2.59375 \nC 19.703125 2.59375 19.5 3.078125 19.5 6.453125 \nL 19.5 34.40625 \nL 38 34.40625 \nC 48.296875 34.40625 53.296875 25.390625 53.296875 18.15625 \nC 53.296875 10.921875 47.59375 2.59375 36.703125 2.59375 \nz\n\" id=\"CMR17-66\"/>\n      <path d=\"M 15.5 61.078125 \nC 15.5 63.265625 13.703125 65.15625 11.40625 65.15625 \nC 9.203125 65.15625 7.296875 63.375 7.296875 61.078125 \nC 7.296875 58.890625 9.09375 57 11.40625 57 \nC 13.59375 57 15.5 58.796875 15.5 61.078125 \nz\nM 3.796875 42.28125 \nL 3.796875 39.703125 \nC 9.40625 39.703125 10.203125 39.09375 10.203125 34.328125 \nL 10.203125 6.671875 \nC 10.203125 2.875 9.796875 2.390625 3.40625 2.390625 \nL 3.40625 -0.203125 \nC 5.796875 0 10.09375 0 12.59375 0 \nC 15 0 19.09375 0 21.40625 -0.203125 \nL 21.40625 2.390625 \nC 15.5 2.390625 15.296875 2.984375 15.296875 6.5625 \nL 15.296875 43.375 \nz\n\" id=\"CMR17-105\"/>\n      <path d=\"M 15 23.390625 \nC 15 33 19.09375 42 26.59375 42 \nC 27.296875 42 28 41.90625 28.703125 41.59375 \nC 28.703125 41.59375 26.5 40.890625 26.5 38.3125 \nC 26.5 35.90625 28.40625 34.90625 29.90625 34.90625 \nC 31.09375 34.90625 33.296875 35.609375 33.296875 38.40625 \nC 33.296875 41.609375 30.09375 43.59375 26.703125 43.59375 \nC 19.09375 43.59375 15.796875 36.203125 14.796875 32.703125 \nL 14.703125 32.703125 \nL 14.703125 43.59375 \nL 3.09375 42.5 \nL 3.09375 39.90625 \nC 9 39.90625 9.90625 39.296875 9.90625 34.5 \nL 9.90625 6.6875 \nC 9.90625 2.875 9.5 2.390625 3.09375 2.390625 \nL 3.09375 -0.203125 \nC 5.5 0 10.09375 0 12.703125 0 \nC 15.59375 0 20.703125 0 23.40625 -0.203125 \nL 23.40625 2.390625 \nC 16.203125 2.390625 15 2.390625 15 6.875 \nz\n\" id=\"CMR17-114\"/>\n      <path d=\"M 15.09375 40 \nL 29.09375 40 \nL 29.09375 42.578125 \nL 15.09375 42.578125 \nL 15.09375 61 \nL 13.296875 61 \nC 13.09375 50.703125 9.59375 41.6875 1.09375 41.6875 \nL 1.09375 40 \nL 9.796875 40 \nL 9.796875 12.046875 \nC 9.796875 10.15625 9.796875 -1 21.40625 -1 \nC 27.296875 -1 30.703125 4.78125 30.703125 12.140625 \nL 30.703125 17.8125 \nL 28.90625 17.8125 \nL 28.90625 12.234375 \nC 28.90625 5.375 26.203125 0.796875 22 0.796875 \nC 19.09375 0.796875 15.09375 2.78125 15.09375 11.84375 \nz\n\" id=\"CMR17-116\"/>\n      <path d=\"M 41.5 30.203125 \nC 41.5 35.296875 40.5 43.59375 28.703125 43.59375 \nC 20.5 43.59375 16.5 37 15.296875 33.703125 \nL 15.203125 33.703125 \nL 15.203125 68.6875 \nL 3.296875 67.59375 \nL 3.296875 65 \nC 9.203125 65 10.09375 64.40625 10.09375 59.640625 \nL 10.09375 6.65625 \nC 10.09375 2.875 9.703125 2.390625 3.296875 2.390625 \nL 3.296875 -0.203125 \nC 5.703125 0 10.09375 0 12.703125 0 \nC 15.296875 0 19.796875 0 22.203125 -0.203125 \nL 22.203125 2.390625 \nC 15.796875 2.390625 15.40625 2.78125 15.40625 6.6875 \nL 15.40625 25.90625 \nC 15.40625 35.109375 21 42 28 42 \nC 35.40625 42 36.203125 35.40625 36.203125 30.59375 \nL 36.203125 6.6875 \nC 36.203125 2.875 35.796875 2.390625 29.40625 2.390625 \nL 29.40625 -0.203125 \nC 31.796875 0 36.203125 0 38.796875 0 \nC 41.40625 0 45.90625 0 48.296875 -0.203125 \nL 48.296875 2.390625 \nC 41.90625 2.390625 41.5 2.78125 41.5 6.6875 \nz\n\" id=\"CMR17-104\"/>\n     </defs>\n     <g transform=\"translate(199.38094 272.634853)scale(0.16 -0.16)\">\n      <use transform=\"scale(0.996264)\" xlink:href=\"#CMR17-66\"/>\n      <use transform=\"translate(65.188754 0)scale(0.996264)\" xlink:href=\"#CMR17-105\"/>\n      <use transform=\"translate(90.059813 0)scale(0.996264)\" xlink:href=\"#CMR17-114\"/>\n      <use transform=\"translate(125.340581 0)scale(0.996264)\" xlink:href=\"#CMR17-116\"/>\n      <use transform=\"translate(160.621349 0)scale(0.996264)\" xlink:href=\"#CMR17-104\"/>\n     </g>\n    </g>\n   </g>\n   <g id=\"matplotlib.axis_2\">\n    <g id=\"ytick_1\">\n     <g id=\"line2d_7\">\n      <defs>\n       <path d=\"M 0 0 \nL -3.5 0 \n\" id=\"m2101267083\" style=\"stroke:#000000;stroke-width:0.8;\"/>\n      </defs>\n      <g>\n       <use style=\"stroke:#000000;stroke-width:0.8;\" x=\"50.080479\" xlink:href=\"#m2101267083\" y=\"213.267063\"/>\n      </g>\n     </g>\n     <g id=\"text_8\">\n      <!-- $0.05$ -->\n      <g transform=\"translate(25.369064 216.726312)scale(0.1 -0.1)\">\n       <use transform=\"scale(0.996264)\" xlink:href=\"#CMR17-48\"/>\n       <use transform=\"translate(45.690477 0)scale(0.996264)\" xlink:href=\"#CMMI12-58\"/>\n       <use transform=\"translate(72.787654 0)scale(0.996264)\" xlink:href=\"#CMR17-48\"/>\n       <use transform=\"translate(118.478131 0)scale(0.996264)\" xlink:href=\"#CMR17-53\"/>\n      </g>\n     </g>\n    </g>\n    <g id=\"ytick_2\">\n     <g id=\"line2d_8\">\n      <g>\n       <use style=\"stroke:#000000;stroke-width:0.8;\" x=\"50.080479\" xlink:href=\"#m2101267083\" y=\"182.904517\"/>\n      </g>\n     </g>\n     <g id=\"text_9\">\n      <!-- $0.10$ -->\n      <g transform=\"translate(25.369064 186.363766)scale(0.1 -0.1)\">\n       <use transform=\"scale(0.996264)\" xlink:href=\"#CMR17-48\"/>\n       <use transform=\"translate(45.690477 0)scale(0.996264)\" xlink:href=\"#CMMI12-58\"/>\n       <use transform=\"translate(72.787654 0)scale(0.996264)\" xlink:href=\"#CMR17-49\"/>\n       <use transform=\"translate(118.478131 0)scale(0.996264)\" xlink:href=\"#CMR17-48\"/>\n      </g>\n     </g>\n    </g>\n    <g id=\"ytick_3\">\n     <g id=\"line2d_9\">\n      <g>\n       <use style=\"stroke:#000000;stroke-width:0.8;\" x=\"50.080479\" xlink:href=\"#m2101267083\" y=\"152.541971\"/>\n      </g>\n     </g>\n     <g id=\"text_10\">\n      <!-- $0.15$ -->\n      <g transform=\"translate(25.369064 156.00122)scale(0.1 -0.1)\">\n       <use transform=\"scale(0.996264)\" xlink:href=\"#CMR17-48\"/>\n       <use transform=\"translate(45.690477 0)scale(0.996264)\" xlink:href=\"#CMMI12-58\"/>\n       <use transform=\"translate(72.787654 0)scale(0.996264)\" xlink:href=\"#CMR17-49\"/>\n       <use transform=\"translate(118.478131 0)scale(0.996264)\" xlink:href=\"#CMR17-53\"/>\n      </g>\n     </g>\n    </g>\n    <g id=\"ytick_4\">\n     <g id=\"line2d_10\">\n      <g>\n       <use style=\"stroke:#000000;stroke-width:0.8;\" x=\"50.080479\" xlink:href=\"#m2101267083\" y=\"122.179425\"/>\n      </g>\n     </g>\n     <g id=\"text_11\">\n      <!-- $0.20$ -->\n      <g transform=\"translate(25.369064 125.638674)scale(0.1 -0.1)\">\n       <use transform=\"scale(0.996264)\" xlink:href=\"#CMR17-48\"/>\n       <use transform=\"translate(45.690477 0)scale(0.996264)\" xlink:href=\"#CMMI12-58\"/>\n       <use transform=\"translate(72.787654 0)scale(0.996264)\" xlink:href=\"#CMR17-50\"/>\n       <use transform=\"translate(118.478131 0)scale(0.996264)\" xlink:href=\"#CMR17-48\"/>\n      </g>\n     </g>\n    </g>\n    <g id=\"ytick_5\">\n     <g id=\"line2d_11\">\n      <g>\n       <use style=\"stroke:#000000;stroke-width:0.8;\" x=\"50.080479\" xlink:href=\"#m2101267083\" y=\"91.816879\"/>\n      </g>\n     </g>\n     <g id=\"text_12\">\n      <!-- $0.25$ -->\n      <g transform=\"translate(25.369064 95.276128)scale(0.1 -0.1)\">\n       <use transform=\"scale(0.996264)\" xlink:href=\"#CMR17-48\"/>\n       <use transform=\"translate(45.690477 0)scale(0.996264)\" xlink:href=\"#CMMI12-58\"/>\n       <use transform=\"translate(72.787654 0)scale(0.996264)\" xlink:href=\"#CMR17-50\"/>\n       <use transform=\"translate(118.478131 0)scale(0.996264)\" xlink:href=\"#CMR17-53\"/>\n      </g>\n     </g>\n    </g>\n    <g id=\"ytick_6\">\n     <g id=\"line2d_12\">\n      <g>\n       <use style=\"stroke:#000000;stroke-width:0.8;\" x=\"50.080479\" xlink:href=\"#m2101267083\" y=\"61.454333\"/>\n      </g>\n     </g>\n     <g id=\"text_13\">\n      <!-- $0.30$ -->\n      <g transform=\"translate(25.369064 64.913582)scale(0.1 -0.1)\">\n       <use transform=\"scale(0.996264)\" xlink:href=\"#CMR17-48\"/>\n       <use transform=\"translate(45.690477 0)scale(0.996264)\" xlink:href=\"#CMMI12-58\"/>\n       <use transform=\"translate(72.787654 0)scale(0.996264)\" xlink:href=\"#CMR17-51\"/>\n       <use transform=\"translate(118.478131 0)scale(0.996264)\" xlink:href=\"#CMR17-48\"/>\n      </g>\n     </g>\n    </g>\n    <g id=\"ytick_7\">\n     <g id=\"line2d_13\">\n      <g>\n       <use style=\"stroke:#000000;stroke-width:0.8;\" x=\"50.080479\" xlink:href=\"#m2101267083\" y=\"31.091787\"/>\n      </g>\n     </g>\n     <g id=\"text_14\">\n      <!-- $0.35$ -->\n      <g transform=\"translate(25.369064 34.551036)scale(0.1 -0.1)\">\n       <use transform=\"scale(0.996264)\" xlink:href=\"#CMR17-48\"/>\n       <use transform=\"translate(45.690477 0)scale(0.996264)\" xlink:href=\"#CMMI12-58\"/>\n       <use transform=\"translate(72.787654 0)scale(0.996264)\" xlink:href=\"#CMR17-51\"/>\n       <use transform=\"translate(118.478131 0)scale(0.996264)\" xlink:href=\"#CMR17-53\"/>\n      </g>\n     </g>\n    </g>\n    <g id=\"text_15\">\n     <!-- Death -->\n     <defs>\n      <path d=\"M 5.203125 68 \nL 5.203125 65.40625 \nC 12.09375 65.40625 13.203125 65.40625 13.203125 60.9375 \nL 13.203125 7.0625 \nC 13.203125 2.59375 12.09375 2.59375 5.203125 2.59375 \nL 5.203125 0 \nL 37 0 \nC 53.09375 0 66 14.734375 66 33.453125 \nC 66 52.28125 53.296875 68 37 68 \nz\nM 23.796875 2.59375 \nC 19.796875 2.59375 19.59375 3.078125 19.59375 6.46875 \nL 19.59375 61.53125 \nC 19.59375 64.921875 19.796875 65.40625 23.796875 65.40625 \nL 35 65.40625 \nC 43.296875 65.40625 58.59375 60.53125 58.59375 33.453125 \nC 58.59375 19.40625 54.5 13.734375 52.59375 11.046875 \nC 50.203125 7.96875 44.5 2.59375 35 2.59375 \nz\n\" id=\"CMR17-68\"/>\n      <path d=\"M 38.09375 23 \nC 38.5 23.40625 38.5 23.609375 38.5 24.625 \nC 38.5 34.96875 33.09375 44 21.703125 44 \nC 11.09375 44 2.703125 33.890625 2.703125 21.609375 \nC 2.703125 8.609375 12.203125 -1 22.796875 -1 \nC 34 -1 38.40625 9.484375 38.40625 11.5625 \nC 38.40625 12.25 37.796875 12.25 37.59375 12.25 \nC 36.90625 12.25 36.796875 12.046875 36.40625 10.875 \nC 34.203125 4.140625 28.703125 0.796875 23.5 0.796875 \nC 19.203125 0.796875 14.90625 3.171875 12.203125 7.5 \nC 9.09375 12.546875 9.09375 18.375 9.09375 23 \nz\nM 9.203125 24.5 \nC 9.90625 39.140625 17.59375 42.40625 21.59375 42.40625 \nC 28.40625 42.40625 33 35.890625 33.09375 24.5 \nz\n\" id=\"CMR17-101\"/>\n      <path d=\"M 36 25.828125 \nC 36 32.375 36 35.84375 31.796875 39.734375 \nC 28.09375 43 23.796875 44 20.40625 44 \nC 12.5 44 6.796875 37.609375 6.796875 30.796875 \nC 6.796875 27 9.796875 27 10.40625 27 \nC 11.703125 27 14 27.78125 14 30.53125 \nC 14 33 12.09375 34.078125 10.40625 34.078125 \nC 10 34.078125 9.5 33.96875 9.203125 33.875 \nC 11.296875 40.5 16.703125 42.40625 20.203125 42.40625 \nC 25.203125 42.40625 30.703125 37.953125 30.703125 29.453125 \nL 30.703125 25 \nC 24.796875 25 17.703125 24.203125 12.09375 21.203125 \nC 5.796875 17.703125 4 12.703125 4 8.90625 \nC 4 1.203125 13 -1 18.296875 -1 \nC 23.796875 -1 28.90625 2.171875 31.09375 7.984375 \nC 31.296875 3.640625 34.09375 -0.28125 38.5 -0.28125 \nC 40.59375 -0.28125 45.90625 1.09375 45.90625 8.859375 \nL 45.90625 14.375 \nL 44.09375 14.375 \nL 44.09375 8.78125 \nC 44.09375 2.78125 41.40625 2 40.09375 2 \nC 36 2 36 7.15625 36 11.53125 \nz\nM 30.703125 13.59375 \nC 30.703125 4.953125 24.5 0.59375 19 0.59375 \nC 14 0.59375 10.09375 4.296875 10.09375 8.90625 \nC 10.09375 11.890625 11.40625 17.1875 17.203125 20.390625 \nC 22 23.09375 27.5 23.5 30.703125 23.5 \nz\n\" id=\"CMR17-97\"/>\n     </defs>\n     <g transform=\"translate(18.269588 153.690456)rotate(-90)scale(0.16 -0.16)\">\n      <use transform=\"scale(0.996264)\" xlink:href=\"#CMR17-68\"/>\n      <use transform=\"translate(70.393556 0)scale(0.996264)\" xlink:href=\"#CMR17-101\"/>\n      <use transform=\"translate(110.879216 0)scale(0.996264)\" xlink:href=\"#CMR17-97\"/>\n      <use transform=\"translate(156.569693 0)scale(0.996264)\" xlink:href=\"#CMR17-116\"/>\n      <use transform=\"translate(191.850461 0)scale(0.996264)\" xlink:href=\"#CMR17-104\"/>\n     </g>\n    </g>\n   </g>\n   <g id=\"patch_4\">\n    <path d=\"M 50.080479 241.709588 \nL 50.080479 24.269588 \n\" style=\"fill:none;stroke:#000000;stroke-linecap:square;stroke-linejoin:miter;stroke-width:0.8;\"/>\n   </g>\n   <g id=\"patch_5\">\n    <path d=\"M 384.880479 241.709588 \nL 384.880479 24.269588 \n\" style=\"fill:none;stroke:#000000;stroke-linecap:square;stroke-linejoin:miter;stroke-width:0.8;\"/>\n   </g>\n   <g id=\"patch_6\">\n    <path d=\"M 50.080479 241.709588 \nL 384.880479 241.709588 \n\" style=\"fill:none;stroke:#000000;stroke-linecap:square;stroke-linejoin:miter;stroke-width:0.8;\"/>\n   </g>\n   <g id=\"patch_7\">\n    <path d=\"M 50.080479 24.269588 \nL 384.880479 24.269588 \n\" style=\"fill:none;stroke:#000000;stroke-linecap:square;stroke-linejoin:miter;stroke-width:0.8;\"/>\n   </g>\n   <g id=\"text_16\">\n    <!-- Persistence diagram -->\n    <defs>\n     <path d=\"M 19.796875 31.90625 \nL 35.796875 31.90625 \nC 48.703125 31.90625 58.09375 40.28125 58.09375 49.75 \nC 58.09375 59.234375 48.90625 68 35.796875 68 \nL 5.203125 68 \nL 5.203125 65.40625 \nC 12.09375 65.40625 13.203125 65.40625 13.203125 60.921875 \nL 13.203125 6.96875 \nC 13.203125 2.5 12.09375 2.5 5.203125 2.5 \nL 5.203125 0 \nC 8.09375 0 13.40625 0 16.5 0 \nC 19.59375 0 24.90625 0 27.796875 0 \nL 27.796875 2.5 \nC 20.90625 2.5 19.796875 2.5 19.796875 6.96875 \nz\nM 19.59375 34 \nL 19.59375 61.53125 \nC 19.59375 64.921875 19.796875 65.40625 23.796875 65.40625 \nL 33.90625 65.40625 \nC 46.796875 65.40625 50.5 58.03125 50.5 49.75 \nC 50.5 40.6875 46.09375 34 33.90625 34 \nz\n\" id=\"CMR17-80\"/>\n     <path d=\"M 30.90625 42.140625 \nC 30.90625 43.953125 30.796875 44.046875 30.203125 44.046875 \nC 29.796875 44.046875 29.703125 43.953125 28.5 42.453125 \nC 28.203125 42.046875 27.296875 41.03125 27 40.640625 \nC 23.796875 44.046875 19.296875 44.046875 17.59375 44.046875 \nC 6.5 44.046875 2.5 38.234375 2.5 32.4375 \nC 2.5 23.40625 12.703125 21.328125 15.59375 20.703125 \nC 21.90625 19.421875 24.09375 19.015625 26.203125 17.203125 \nC 27.5 16.015625 29.703125 13.8125 29.703125 10.21875 \nC 29.703125 6 27.296875 0.59375 18.09375 0.59375 \nC 9.40625 0.59375 6.296875 7.1875 4.5 15.953125 \nC 4.203125 17.34375 4.203125 17.453125 3.40625 17.453125 \nC 2.59375 17.453125 2.5 17.34375 2.5 15.359375 \nL 2.5 0.984375 \nC 2.5 -0.796875 2.59375 -0.90625 3.203125 -0.90625 \nC 3.703125 -0.90625 3.796875 -0.796875 4.296875 0 \nC 4.90625 0.890625 6.40625 3.296875 7 4.3125 \nC 9 1.609375 12.5 -1 18.09375 -1 \nC 28 -1 33.296875 4.421875 33.296875 12.25 \nC 33.296875 17.375 30.59375 20.078125 29.296875 21.28125 \nC 26.296875 24.390625 22.796875 25.09375 18.59375 25.890625 \nC 13.09375 27.109375 6.09375 28.515625 6.09375 34.640625 \nC 6.09375 37.234375 7.5 42.765625 17.59375 42.765625 \nC 28.296875 42.765625 28.90625 32.71875 29.09375 29.5 \nC 29.203125 29 29.703125 28.890625 30 28.890625 \nC 30.90625 28.890625 30.90625 29.203125 30.90625 30.90625 \nz\n\" id=\"CMR17-115\"/>\n     <path d=\"M 41.5 30.203125 \nC 41.5 35.296875 40.5 43.59375 28.703125 43.59375 \nC 20.796875 43.59375 16.703125 37.5 15.203125 33.5 \nL 15.09375 33.5 \nL 15.09375 43.59375 \nL 3.296875 42.5 \nL 3.296875 39.90625 \nC 9.203125 39.90625 10.09375 39.296875 10.09375 34.5 \nL 10.09375 6.6875 \nC 10.09375 2.875 9.703125 2.390625 3.296875 2.390625 \nL 3.296875 -0.203125 \nC 5.703125 0 10.09375 0 12.703125 0 \nC 15.296875 0 19.796875 0 22.203125 -0.203125 \nL 22.203125 2.390625 \nC 15.796875 2.390625 15.40625 2.78125 15.40625 6.6875 \nL 15.40625 25.90625 \nC 15.40625 35.109375 21 42 28 42 \nC 35.40625 42 36.203125 35.40625 36.203125 30.59375 \nL 36.203125 6.6875 \nC 36.203125 2.875 35.796875 2.390625 29.40625 2.390625 \nL 29.40625 -0.203125 \nC 31.796875 0 36.203125 0 38.796875 0 \nC 41.40625 0 45.90625 0 48.296875 -0.203125 \nL 48.296875 2.390625 \nC 41.90625 2.390625 41.5 2.78125 41.5 6.6875 \nz\n\" id=\"CMR17-110\"/>\n     <path d=\"M 34.90625 35 \nC 33 35 30.203125 35 30.203125 31.515625 \nC 30.203125 28.71875 32.5 27.921875 33.796875 27.921875 \nC 34.5 27.921875 37.40625 28.234375 37.40625 31.625 \nC 37.40625 38.546875 30.59375 43.796875 22.90625 43.796875 \nC 12.296875 43.796875 3.296875 34.03125 3.296875 21.296875 \nC 3.296875 8.0625 12.703125 -1 22.90625 -1 \nC 35.296875 -1 38.40625 10.578125 38.40625 11.6875 \nC 38.40625 12.09375 38.296875 12.390625 37.59375 12.390625 \nC 36.90625 12.390625 36.796875 12.296875 36.40625 10.984375 \nC 33.796875 2.8125 28.09375 0.796875 23.796875 0.796875 \nC 17.40625 0.796875 9.703125 6.671875 9.703125 21.390625 \nC 9.703125 36.53125 17.09375 42 23 42 \nC 26.90625 42 32.703125 40.203125 34.90625 35 \nz\n\" id=\"CMR17-99\"/>\n     <path d=\"M 29.203125 67.59375 \nL 29.203125 65 \nC 35.09375 65 36 64.40625 36 59.6875 \nL 36 36.640625 \nC 35.59375 37.140625 31.5 43.59375 23.40625 43.59375 \nC 13.203125 43.59375 3.296875 34.5 3.296875 21.3125 \nC 3.296875 8.203125 12.59375 -1 22.40625 -1 \nC 30.90625 -1 35.296875 5.265625 35.796875 5.9375 \nL 35.796875 -0.984375 \nL 47.90625 -0.984375 \nL 47.90625 2 \nC 42 2 41.09375 2.59375 41.09375 7.390625 \nL 41.09375 68.6875 \nz\nM 35.796875 11.796875 \nC 35.796875 8.796875 34 6.09375 31.703125 4.09375 \nC 28.296875 1.09375 24.90625 0.59375 23 0.59375 \nC 20.09375 0.59375 9.703125 2.09375 9.703125 21.1875 \nC 9.703125 40.8125 21.296875 42 23.90625 42 \nC 28.5 42 32.203125 39.40625 34.5 35.796875 \nC 35.796875 33.703125 35.796875 33.40625 35.796875 31.609375 \nz\n\" id=\"CMR17-100\"/>\n     <path d=\"M 11.09375 18.1875 \nC 13 16.6875 16.296875 15 20.296875 15 \nC 28.203125 15 35 21.203125 35 29.5 \nC 35 32.09375 34.203125 36.09375 31.203125 39.203125 \nC 34 42.0625 38.09375 43 40.40625 43 \nC 40.796875 43 41.40625 43 41.90625 42.71875 \nC 41.5 42.625 40.59375 42.234375 40.59375 40.703125 \nC 40.59375 39.484375 41.5 38.609375 42.796875 38.609375 \nC 44.296875 38.609375 45.09375 39.578125 45.09375 40.84375 \nC 45.09375 42.671875 43.59375 44.59375 40.40625 44.59375 \nC 36.40625 44.59375 32.90625 42.78125 30.09375 40.3125 \nC 27.09375 43.015625 23.5 44 20.296875 44 \nC 12.40625 44 5.59375 37.796875 5.59375 29.5 \nC 5.59375 23.78125 8.90625 20.1875 9.90625 19.1875 \nC 6.90625 15.6875 6.90625 11.609375 6.90625 11.109375 \nC 6.90625 8.515625 7.90625 4.71875 11.296875 2.625 \nC 6.09375 1.328125 2 -2.640625 2 -7.59375 \nC 2 -14.734375 11.5 -20 22.90625 -20 \nC 33.90625 -20 43.796875 -14.9375 43.796875 -7.484375 \nC 43.796875 6 29 6 21.296875 6 \nC 19 6 14.90625 6 14.40625 6.109375 \nC 11.296875 6.609375 9.203125 9.40625 9.203125 12.90625 \nC 9.203125 13.796875 9.203125 16 11.09375 18.1875 \nz\nM 20.296875 16.6875 \nC 11.5 16.6875 11.5 27.5 11.5 29.515625 \nC 11.5 31.5 11.5 42.3125 20.296875 42.3125 \nC 29.09375 42.3125 29.09375 31.5 29.09375 29.515625 \nC 29.09375 27.5 29.09375 16.6875 20.296875 16.6875 \nz\nM 22.90625 -18.296875 \nC 12.90625 -18.296875 6 -13.046875 6 -7.59375 \nC 6 -4.515625 7.703125 -1.640625 9.90625 -0.0625 \nC 12.40625 1.625 13.40625 1.625 20.203125 1.625 \nC 28.40625 1.625 39.796875 1.625 39.796875 -7.59375 \nC 39.796875 -13.046875 32.90625 -18.296875 22.90625 -18.296875 \nz\n\" id=\"CMR17-103\"/>\n     <path d=\"M 67.59375 30.203125 \nC 67.59375 35.1875 66.703125 43.59375 54.796875 43.59375 \nC 48 43.59375 43.296875 39 41.5 33.609375 \nL 41.40625 33.609375 \nC 40.203125 41.8125 34.296875 43.59375 28.703125 43.59375 \nC 20.796875 43.59375 16.703125 37.5 15.203125 33.5 \nL 15.09375 33.5 \nL 15.09375 43.59375 \nL 3.296875 42.5 \nL 3.296875 39.90625 \nC 9.203125 39.90625 10.09375 39.296875 10.09375 34.5 \nL 10.09375 6.6875 \nC 10.09375 2.875 9.703125 2.390625 3.296875 2.390625 \nL 3.296875 -0.203125 \nC 5.703125 0 10.09375 0 12.703125 0 \nC 15.296875 0 19.796875 0 22.203125 -0.203125 \nL 22.203125 2.390625 \nC 15.796875 2.390625 15.40625 2.78125 15.40625 6.6875 \nL 15.40625 25.90625 \nC 15.40625 35.109375 21 42 28 42 \nC 35.40625 42 36.203125 35.40625 36.203125 30.59375 \nL 36.203125 6.6875 \nC 36.203125 2.875 35.796875 2.390625 29.40625 2.390625 \nL 29.40625 -0.203125 \nC 31.796875 0 36.203125 0 38.796875 0 \nC 41.40625 0 45.90625 0 48.296875 -0.203125 \nL 48.296875 2.390625 \nC 41.90625 2.390625 41.5 2.78125 41.5 6.6875 \nL 41.5 25.90625 \nC 41.5 35.109375 47.09375 42 54.09375 42 \nC 61.5 42 62.296875 35.40625 62.296875 30.59375 \nL 62.296875 6.6875 \nC 62.296875 2.875 61.90625 2.390625 55.5 2.390625 \nL 55.5 -0.203125 \nC 57.90625 0 62.296875 0 64.90625 0 \nC 67.5 0 72 0 74.40625 -0.203125 \nL 74.40625 2.390625 \nC 68 2.390625 67.59375 2.78125 67.59375 6.6875 \nz\n\" id=\"CMR17-109\"/>\n    </defs>\n    <g transform=\"translate(149.435423 18.269588)scale(0.16 -0.16)\">\n     <use transform=\"scale(0.996264)\" xlink:href=\"#CMR17-80\"/>\n     <use transform=\"translate(59.983847 0)scale(0.996264)\" xlink:href=\"#CMR17-101\"/>\n     <use transform=\"translate(100.469507 0)scale(0.996264)\" xlink:href=\"#CMR17-114\"/>\n     <use transform=\"translate(135.750275 0)scale(0.996264)\" xlink:href=\"#CMR17-115\"/>\n     <use transform=\"translate(171.551612 0)scale(0.996264)\" xlink:href=\"#CMR17-105\"/>\n     <use transform=\"translate(196.422671 0)scale(0.996264)\" xlink:href=\"#CMR17-115\"/>\n     <use transform=\"translate(232.224009 0)scale(0.996264)\" xlink:href=\"#CMR17-116\"/>\n     <use transform=\"translate(267.504776 0)scale(0.996264)\" xlink:href=\"#CMR17-101\"/>\n     <use transform=\"translate(307.990437 0)scale(0.996264)\" xlink:href=\"#CMR17-110\"/>\n     <use transform=\"translate(358.885807 0)scale(0.996264)\" xlink:href=\"#CMR17-99\"/>\n     <use transform=\"translate(399.371467 0)scale(0.996264)\" xlink:href=\"#CMR17-101\"/>\n     <use transform=\"translate(469.933094 0)scale(0.996264)\" xlink:href=\"#CMR17-100\"/>\n     <use transform=\"translate(520.828464 0)scale(0.996264)\" xlink:href=\"#CMR17-105\"/>\n     <use transform=\"translate(545.699522 0)scale(0.996264)\" xlink:href=\"#CMR17-97\"/>\n     <use transform=\"translate(591.389999 0)scale(0.996264)\" xlink:href=\"#CMR17-103\"/>\n     <use transform=\"translate(637.080476 0)scale(0.996264)\" xlink:href=\"#CMR17-114\"/>\n     <use transform=\"translate(672.361244 0)scale(0.996264)\" xlink:href=\"#CMR17-97\"/>\n     <use transform=\"translate(718.051721 0)scale(0.996264)\" xlink:href=\"#CMR17-109\"/>\n    </g>\n   </g>\n  </g>\n </g>\n <defs>\n  <clipPath id=\"p3953f5e936\">\n   <rect height=\"217.44\" width=\"334.8\" x=\"50.080479\" y=\"24.269588\"/>\n  </clipPath>\n </defs>\n</svg>\n",
      "image/png": "[encoded data removed]"
     },
     "metadata": {
      "needs_background": "light"
     }
    }
   ],
   "source": [
    "gudhi.plot_persistence_diagram(BarCodes_Rips0)"
   ]
  },
  {
   "cell_type": "code",
   "execution_count": null,
   "metadata": {},
   "outputs": [],
   "source": [
    "xd, yd = [i[0] for i in my_data], [i[1] for i in my_data]\n",
    "plot(xd, yd, 'o')"
   ]
  },
  {
   "cell_type": "code",
   "execution_count": null,
   "metadata": {},
   "outputs": [],
   "source": [
    "print(\"#####################################################################\")\n",
    "print(\"RipsComplex creation from points\")\n",
    "rips = gudhi.RipsComplex(points=my_data)\n",
    "\n",
    "simplex_tree = rips.create_simplex_tree(max_dimension=2)\n",
    "\n",
    "diag = simplex_tree.persistence(homology_coeff_field=2, min_persistence=0)\n",
    "\n",
    "gudhi.plot_persistence_diagram(diag)\n",
    "plot.show()"
   ]
  },
  {
   "cell_type": "code",
   "execution_count": null,
   "metadata": {},
   "outputs": [],
   "source": [
    "import numpy as np\n",
    "from scipy.spatial.distance import cdist\n",
    "from gudhi.point_cloud.dtm import DistanceToMeasure\n",
    "from gudhi.weighted_rips_complex import WeightedRipsComplex\n",
    "from gudhi import plot_persistence_barcode\n",
    "pts = my_data\n",
    "dist = cdist(pts,pts)\n",
    "dtm = DistanceToMeasure(2, q=2, metric=\"precomputed\")\n",
    "r = dtm.fit_transform(dist)\n",
    "w_rips = WeightedRipsComplex(distance_matrix=dist, weights=r)\n",
    "st = w_rips.create_simplex_tree(max_dimension=2)\n",
    "plot_persistence_barcode(st.persistence())"
   ]
  },
  {
   "cell_type": "code",
   "execution_count": null,
   "metadata": {},
   "outputs": [],
   "source": [
    "points = pts\n",
    "rc = w_rips\n",
    "\n",
    "# We are only going to plot the triangles\n",
    "triangles = np.array([s[0] for s in st.get_skeleton(2) if len(s[0])==3])\n",
    "\n",
    "print(pts, triangles)\n",
    "from mpl_toolkits.mplot3d import Axes3D\n",
    "import matplotlib.pyplot as plt\n",
    "fig = plt.figure()\n",
    "ax = fig.gca(projection='3d')\n",
    "ax.plot_trisurf(points[:,0], points[:,1], [0,0,0], triangles=triangles)\n",
    "plt.show()"
   ]
  },
  {
   "cell_type": "code",
   "execution_count": null,
   "metadata": {},
   "outputs": [],
   "source": [
    "\n",
    "# Import the class\n",
    "import kmapper as km\n",
    "\n",
    "# Some sample data\n",
    "from sklearn import datasets\n",
    "data, labels = datasets.make_circles(n_samples=5000, noise=0.03, factor=0.3)\n",
    "\n",
    "# Initialize\n",
    "mapper = km.KeplerMapper(verbose=1)\n",
    "\n",
    "# Fit to and transform the data\n",
    "projected_data = mapper.fit_transform(data, projection=[0,1]) # X-Y axis\n",
    "\n",
    "# Create dictionary called 'graph' with nodes, edges and meta-information\n",
    "graph = mapper.map(projected_data, data, cover=km.Cover(n_cubes=10))\n",
    "\n",
    "# Visualize it\n",
    "#mapper.visualize(graph, path_html=\"make_circles_keplermapper_output.html\",\n",
    "#                 title=\"make_circles(n_samples=5000, noise=0.03, factor=0.3)\")"
   ]
  },
  {
   "cell_type": "code",
   "execution_count": null,
   "metadata": {},
   "outputs": [],
   "source": [
    "from simplicial import *\n",
    "\n",
    "c = SimplicialComplex()"
   ]
  },
  {
   "cell_type": "code",
   "execution_count": null,
   "metadata": {},
   "outputs": [],
   "source": [
    "# add a simplex with a generated name\n",
    "s1 = c.addSimplex()\n",
    "\n",
    "# add simplices whose names we want to specify\n",
    "s2 = c.addSimplex(id = 2)\n",
    "s3 = c.addSimplex(id = 3)"
   ]
  },
  {
   "cell_type": "code",
   "execution_count": null,
   "metadata": {},
   "outputs": [],
   "source": [
    "l23 = c.addSimplex(fs = [ 2, 3 ])"
   ]
  },
  {
   "cell_type": "code",
   "execution_count": null,
   "metadata": {},
   "outputs": [],
   "source": [
    "l12 = c.addSimplex(fs = [ s1, 2 ])\n",
    "l31 = c.addSimplex(fs = [ s1, 3 ])\n",
    "\n",
    "# create the triangle\n",
    "t123 = c.addSimplex(fs = [l12, l23, l31])"
   ]
  },
  {
   "cell_type": "code",
   "execution_count": null,
   "metadata": {},
   "outputs": [],
   "source": [
    "txyz = c.addSimplexOfOrder(2, id = 'xyz')"
   ]
  },
  {
   "cell_type": "code",
   "execution_count": null,
   "metadata": {},
   "outputs": [],
   "source": [
    "import simplicial as simplicial"
   ]
  },
  {
   "cell_type": "code",
   "execution_count": null,
   "metadata": {},
   "outputs": [],
   "source": [
    "help(c)"
   ]
  },
  {
   "cell_type": "code",
   "execution_count": null,
   "metadata": {},
   "outputs": [],
   "source": [
    "#!/usr/bin/env python3\n",
    "# -*- coding: utf-8 -*-\n",
    "\"\"\"\n",
    "Created on Wed May 21 06:03:32 2018\n",
    "@author: nolte\n",
    "D. D. Nolte, Introduction to Modern Dynamics: Chaos, Networks, Space and Time, 2nd ed. (Oxford,2019)\n",
    "\"\"\"\n",
    "import numpy as np\n",
    "import matplotlib as mpl\n",
    "from mpl_toolkits.mplot3d import Axes3D\n",
    "from scipy import integrate\n",
    "from matplotlib import pyplot as plt\n",
    "from matplotlib import cm\n",
    "import time\n",
    "import os\n",
    " \n",
    "plt.close('all')\n",
    " \n",
    "# model_case 1 = Pendulum\n",
    "# model_case 2 = Double Well\n",
    "print(' ')\n",
    "print('Duffing.py')\n",
    " \n",
    "alpha = 1\n",
    "beta = 1\n",
    "delta = 0.3\n",
    "gam = 0.35\n",
    "w = 1.2\n",
    "\n",
    "\n",
    "def flow_deriv(x_y_z,tspan):\n",
    "    x, y, z = x_y_z\n",
    "    a = y\n",
    "    b = delta*np.cos(w*tspan) - alpha*x - beta*x**3 - gam*y\n",
    "    c = w\n",
    "    return[a,b,c]\n",
    "                 \n",
    "T = 2*np.pi/w\n",
    " \n",
    "px1 = 0 # np.random.rand(1)\n",
    "xp1 = 0 # np.random.rand(1)\n",
    "w1 = 0\n",
    " \n",
    "x_y_z = [xp1, px1, w1]\n",
    " \n",
    "# Settle-down Solve for the trajectories\n",
    "t = np.linspace(0, 2000, 40000)\n",
    "x_t = integrate.odeint(flow_deriv, x_y_z, t)\n",
    "x0 = x_t[39999,0:3]\n",
    " \n",
    "tspan = np.linspace(1,2000,40000)\n",
    "x_t = integrate.odeint(flow_deriv, x0, tspan)\n",
    "siztmp = np.shape(x_t)\n",
    "siz = siztmp[0]\n",
    " \n",
    "y1 = x_t[:,0]\n",
    "y2 = x_t[:,1]\n",
    "y3 = x_t[:,2]\n",
    "     \n",
    "plt.figure(2)\n",
    "lines = plt.plot(y1[1:2000],y2[1:2000],'ko',ms=1)\n",
    "plt.setp(lines, linewidth=0.5)\n",
    "plt.show()\n",
    "plt.savefig('Duffing')"
   ]
  },
  {
   "cell_type": "code",
   "execution_count": null,
   "metadata": {},
   "outputs": [],
   "source": [
    "import pandas as pd \n",
    "xx = lambda a: np.interp(a, (a.min(), a.max()), (0, +1))\n",
    "ll = xx(y1[1:150])\n",
    "la = xx(y2[1:150])\n",
    "pd.DataFrame(np.array(list(zip(ll,la)))).to_csv(\"./InteractiveJPDwB/data/seed1_data.csv\", header=['X_value','Y_value'], index=True, index_label='point_id')\n"
   ]
  },
  {
   "cell_type": "code",
   "execution_count": null,
   "metadata": {},
   "outputs": [],
   "source": [
    "plt.figure(2)\n",
    "xx = lambda a: np.interp(a, (a.min(), a.max()), (0, +1))\n",
    "ll = xx(y1[1:500])\n",
    "la = xx(y2[1:500])\n",
    "lines = plt.plot(ll,la,'ko',ms=1)\n",
    "plt.setp(lines, linewidth=0.5)\n",
    "plt.show()\n",
    "plt.savefig('Duffing')"
   ]
  },
  {
   "cell_type": "code",
   "execution_count": null,
   "metadata": {},
   "outputs": [],
   "source": [
    "a = np.array([2*i for i in [-1,-2,-3, -4,1,2,3,4]])"
   ]
  },
  {
   "cell_type": "code",
   "execution_count": null,
   "metadata": {},
   "outputs": [],
   "source": [
    "700.0,709.0\n",
    "7.0,11.0\n",
    "4.0,712.0\n",
    "708.0,8.0\n",
    "336.0,367.0"
   ]
  },
  {
   "cell_type": "code",
   "execution_count": null,
   "metadata": {},
   "outputs": [],
   "source": [
    "np.interp(a, (a.min(), a.max()), (0, +1))"
   ]
  },
  {
   "cell_type": "code",
   "execution_count": null,
   "metadata": {},
   "outputs": [],
   "source": []
  }
 ],
 "metadata": {
  "kernelspec": {
   "display_name": "Python 3.8.2 64-bit ('three8': conda)",
   "language": "python",
   "name": "python38264bitthree8condac5664901842a423ba0f6a1b608e8c6dd"
  }
 },
 "nbformat": 4,
 "nbformat_minor": 4
}