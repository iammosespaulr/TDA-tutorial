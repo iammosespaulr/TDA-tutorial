{
 "cells": [
  {
   "cell_type": "markdown",
   "metadata": {},
   "source": [
    "## Topological Data Analysis - Part 4 - Persistent Homology"
   ]
  },
  {
   "cell_type": "markdown",
   "metadata": {},
   "source": [
    "This is Part 4 in a series on topological data analysis.\n",
    "See <a href=\"TDApart1.html\">Part 1</a> | <a href=\"TDApart2.html\">Part 2</a> | <a href=\"TDApart3.html\">Part 3</a> | <a href=\"TDApart5.html\">Part 5</a>\n",
    "\n",
    "In this part we learn more about how linear algebra can help us calculate topological features in a computationally efficient manner."
   ]
  },
  {
   "cell_type": "markdown",
   "metadata": {},
   "source": [
    "### Linear algebra saves the day"
   ]
  },
  {
   "cell_type": "markdown",
   "metadata": {},
   "source": [
    "You might have noticed that calculating the homology groups and Betti numbers by hand can be very tedious and impractical for anything larger than the simple examples we've considered thus far. Fortunately, there are better ways. In particularly, we can represent most of the computation of homology groups in terms of vectors and matrices and computers are very efficient when working with vectors and matrices.\n",
    "\n",
    "Now, we already went over what a vector is (an element in a vector space) but what is a matrix? You probably think of a matrix has a kind of 2-dimensional grid of numbers, and you know you can multiply matrices by other matrices and vectors and what not. Well a grid of numbers is certainly a convenient notation for matrices, but that's not what they _are_."
   ]
  },
  {
   "cell_type": "markdown",
   "metadata": {},
   "source": [
    "##### What's a matrix?\n",
    "\n",
    "By this point, you should be comfortable with the idea of a function or map. These are both ways of translating one type of mathematical structure into another (or at least mapping one element in a structure to a different element in the same structure). In particular, we've spent a good amount of time working with boundary maps that mapped a higher-dimensional chain group to a lower dimensional chain group that preserved the structure of the original group in some way (it is a homomorphism).\n",
    "\n",
    "So just like we can have a map between two groups, we can have a map between two vector spaces. And we call (linear) maps between vector spaces, __matrices__. A matrix basically applies a linear transformation on a vector space (or individual vector element) producing new vector space. A _linear_ transformation just implies that we can only transform the vector space via the normal vector operations of scaling by a constant and addition of a constant vector.\n",
    "\n",
    ">__Definition (Linear Tansformation)__ <br />\n",
    "More precisely, a linear transformation $M\\ :\\ V_1 \\rightarrow V_2$ is a map $M$ from the vector spaces $V_1$ to $V_2$ such that $M(V_1 + V_2) = M(V_1) + M(V_2)$ and $M(aV_1) = aM(V_1)$ where $a$ is a scalar.\n",
    "\n",
    "Let's say we want to map the real-valued volume $\\mathbb R^3$ to the plane $\\mathbb R^2$.\n",
    "\n",
    "$$\n",
    "\\begin{aligned}\n",
    "V_1 &= span\\{(1,0,0),(0,1,0),(0,0,1)\\} \\\\\n",
    "V_2 &= span\\{(1,0),(0,1)\\}\n",
    "\\end{aligned}\n",
    "$$\n",
    "\n",
    "Now, what if I want to map $V_1$ to $V_2$, that is, I want to send every point in $V_1$ to a point in $V_2$. There are many reasons why I might want to do something like this. If I'm making a graphics application, for example, I want to offer an option to rotate images drawn, and this is simply a matter of applying a linear transformation on the pixels."
   ]
  },
  {
   "cell_type": "markdown",
   "metadata": {},
   "source": [
    "So we want a map $M : V_1 \\rightarrow V_2$, and we'll call this map a matrix. Notice that $V_1$ has a basis with 3 elements, and $V_2$ has a basis with 2 elements. In order to map from one space to the other, we just need to map one basis set to another basis set. And remember, since this is a linear map, all we are allowed to do to a basis is multiply it by a scalar or add another vector to it; we can't do exotic things like square it or take the logarithm.\n",
    "\n",
    "Let's call the 3 basis elements of $V_1: B_1, B_2, B_3$. Hence, $V_1 = \\langle{B_1, B_2, B_3}\\rangle$.\n",
    "Similarly, we'll call the 2 basis elements of $V_2: \\beta_1, \\beta_2$. Hence, $V_2 = \\langle{\\beta_1, \\beta_2}\\rangle$. (Remember the angle brackets $\\langle\\rangle$ mean span, i.e. the set of all linear combinations of those elements). We can setup equations such that any vector in $V_1$ can be mapped to a vector in $V_2$ by using the fact that each vector space can be defined by their bases.\n",
    "\n",
    ">_New Notation (Vector)_ <br />\n",
    "To prevent confusion between symbols that refer to scalars and symbols that refer vectors, I will henceforth add a little arrow over every vector $\\vec{v}$ to denote it is a vector, not a scalar. Remember, the scalar is just a single element from the underlying field $F$ over which the vector space is defined.\n",
    "\n",
    "We can define our map $M(V_1) = V_2$ in this way:\n",
    "\n",
    "$$\n",
    "\\begin{aligned}\n",
    "M(B_1) &= a\\vec \\beta_1 + b\\vec \\beta_2 \\mid a,b \\in \\mathbb R \\\\\n",
    "M(B_2) &= c\\vec \\beta_1 + d\\vec \\beta_2 \\mid c,d \\in \\mathbb R \\\\\n",
    "M(B_3) &= e\\vec \\beta_1 + f\\vec \\beta_2 \\mid e,f \\in \\mathbb R \\\\\n",
    "\\end{aligned}\n",
    "$$\n",
    "\n",
    "That is, the map from each basis in $V_1$ is setup as a linear combination of the basis elements in $V_2$. This requires us to define a total of 6 new pieces of data: $a,b,c,d,e,f \\in \\mathbb R$ required for our mapping. We just have to keep track of the fact that $a,b$ are for mapping to $\\beta_1$ and $d,e,f$ are for mapping to $\\beta_2$. What's a convenient way to keep track of all of that? Oh I know, a matrix!\n",
    "\n",
    "$$\n",
    "M = \n",
    "\\begin{pmatrix}\n",
    "a & c & e \\\\\n",
    "b & d & f \\\\\n",
    "\\end{pmatrix}\n",
    "$$\n",
    "\n",
    "That is a very convenient way to represent our map $M\\ :\\ V_1 \\rightarrow V_2$ indeed. Notice that each _column_ of this matrix corresponds to the \"mapping equation\" coefficients for each M(B_n). Also notice that the dimensions of this matrix, $2\\times3$, corresponds to the dimensions of the two vector spaces we're mapping to and from. That is, any map $\\mathbb R^n \\rightarrow \\mathbb R^m$ will be represented as an $m\\times n$ matrix. It is important to keep in mind that since the linear map (and hence the matrix) depend on coefficients applied to a basis, then the matrix elements will change if one uses a different basis."
   ]
  },
  {
   "cell_type": "markdown",
   "metadata": {},
   "source": [
    "Knowing this we can easily see how vector-matrix multiplication _should_ work and why the dimensions of a matrix and vector have to correspond. Namely, a $n \\times m$ vector/matrix multiplied by a $j \\times k$ vector/matrix must produce a $n \\times k$ vector/matrix, and for it to work at all, $m = j$.\n",
    "\n",
    "This is how we can multiply our matrix map $M$ by any vector in $V_1$ to produce the mapped-to vector in $V_2$:"
   ]
  },
  {
   "cell_type": "markdown",
   "metadata": {},
   "source": [
    "$$\n",
    "M(\\vec v\\ \\in\\ V_1)\n",
    "=\n",
    "\\underbrace{\n",
    "\\begin{bmatrix}\n",
    "a & c & e \\\\\n",
    "b & d & f \\\\\n",
    "\\end{bmatrix}}_{M:V_1\\rightarrow V_2}\n",
    "\\underbrace{\n",
    "\\begin{pmatrix}\n",
    "x \\\\ y \\\\ z \\\\\n",
    "\\end{pmatrix}}_{\\vec v\\ \\in\\ V_1}\n",
    "=\n",
    "\\underbrace{\n",
    "\\begin{bmatrix}\n",
    "a * x & c * y & e * z \\\\\n",
    "b * x & d * y & f * z \\\\\n",
    "\\end{bmatrix}}_{M:V_1\\rightarrow V_2}\n",
    "=\n",
    "\\begin{pmatrix}\n",
    "a * x + c * y + e * z \\\\\n",
    "b * x + d * y + f * z \\\\\n",
    "\\end{pmatrix}\n",
    "$$"
   ]
  },
  {
   "cell_type": "markdown",
   "metadata": {},
   "source": [
    "Ok now we know a matrix is a linear map between two vector spaces. But what happens if you multiply two matrices together? Well that is just a composition of maps. For example, we have three vector spaces $T, U, V$ and two linear maps $m_1, m_2$:\n",
    "\n",
    "$$ T \\stackrel{m_1}{\\rightarrow} U \\stackrel{m_2}{\\rightarrow} V$$\n",
    "\n",
    "To get from $T$ to $V$, we need to apply both maps: $m_2(m_1(T)) = V$. Hence, multiplying two matrices together gives us a composition of maps $m_2 \\circ m_1$. The _identity_ matrix is an identity map (i.e. it doesn't change the input) that takes the form where 1s are along the diagonal and 0s everywhere else, e.g.:\n",
    "\n",
    "$$\n",
    "m=\n",
    "\\begin{bmatrix}\n",
    "\\ddots & 0 & 0 & 0 & ⋰ \\\\\n",
    "0 & 1 & 0 & 0 & 0 \\\\\n",
    "0 & 0 & 1 & 0 & 0 \\\\\n",
    "0 & 0 & 0 & 1 & 0 \\\\\n",
    "⋰ & 0 & 0 & 0 & \\ddots \\\\\n",
    "\\end{bmatrix}\n",
    "\\\\\n",
    "m \\vec V = \\vec V\n",
    "$$"
   ]
  },
  {
   "cell_type": "markdown",
   "metadata": {},
   "source": [
    "#### Back to simplicial homology (again)\n",
    "\n",
    "We learned all of that so we can represent the boundary map $\\partial(C_n)$ as a __matrix__ so we can apply the tools of linear algebra. This makes sense since we already know that the chain groups $C_n$ can be viewed as vector spaces when we allow scalar multiplication, so then a linear map between the chain vector spaces is the boundary map, that we can represent as a matrix.\n",
    "\n",
    "We represent an $n$-boundary map, i.e. $\\partial(C_n)$, where $n$ is the dimension of the chain group, $k$ is the number of simplices in $C_n$ and $l$ is the number of simplices in $C_{n-1}$, as a matrix with $k$ columns and $l$ rows. Thus each column represents a simplex in $C_n$ and each row represents a simplex in $C_{n-1}$. We put a $1$ in a cell of the matrix if the simplex in that column maps to the simplex in that row. For example, $\\partial([a,b]) = a - b$ if the field is $\\mathbb Z$, so we will put a $1$ in the row for $a$ and $b$ since the 1-simplex $[a,b]$ maps to those two 0-simplices.\n",
    "\n",
    "Let's try calculating the homology groups of the previous simplicial complex (depicted below again) using matrices and vectors. We're going to go back to using $\\mathbb Z_2$ as our field (so simplex orientation can be ignored) because it is computationally more efficient to do so.\n",
    "\n",
    "$$ S = \\text{ {[a], [b], [c], [d], [a, b], [b, c], [c, a], [c, d], [d, b], [a, b, c]} } $$\n",
    "\n",
    "<img src=\"images/TDAimages/part4/simplicialcomplex5b.svg\" />"
   ]
  },
  {
   "cell_type": "markdown",
   "metadata": {},
   "source": [
    "Since we're using the (very small) finite field $\\mathbb Z_2$ then we can actually list out all the vectors in our chain (group) vector space. We have 3 chain groups, namely the group of 0-simplices (vertices), 1-simplices (edges), and 2-simplices (triangle).\n",
    "\n",
    "In our example, we only have a single 2-simplex: [a,b,c], thus the group it generates over the field $\\mathbb Z_2$ is only $\\{0, [a,b,c]\\}$ which is isomorphic to $\\mathbb Z_2$. Recall, in general, the group generated by the number $n$ of $p$-simplices in a simplicial complex is isomorphic to $\\mathbb Z^n_2$. For a computer to understand, we can encode the group elements just using their coefficients 1 or 1. So, for example, the group generated by $[a,b,c]$ can just be represented as $\\{0,1\\}$. Or the group generated by the 0-simplices $\\{a, b, c, d\\}$ can be represented by 4-dimensional vectors, for example, if a group element is $a+b+c$ then we encode this as $(1, 1, 1, 0)$ where each position represents the presence or abscence of $(a, b, c, d)$, respectively.\n",
    "\n",
    "Here are all the chain groups represented as vectors with just coefficients (I didn't list all elements for $C_1$ since there are so many [32]):\n",
    "\n",
    "$$\n",
    "\\begin{align}\n",
    "C_0\n",
    "&=\n",
    "\\left\\{\n",
    "\\begin{array}{ll}\n",
    "(0,0,0,0) & (1,0,0,0) & (0,1,1,0) & (0,1,0,1) \\\\ \n",
    "(0,1,0,0) & (0,0,1,0) & (0,0,1,1) & (0,1,1,1) \\\\ \n",
    "(0,0,0,1) & (1,1,0,0) & (1,0,0,1) & (1,0,1,1) \\\\ \n",
    "(1,1,1,0) & (1,1,1,1) & (1,0,1,0) & (1,1,0,1) \\\\ \n",
    "\\end{array} \n",
    "\\right.\n",
    "& \\cong \\mathbb Z^4_2\n",
    "\\\\\n",
    "C_1\n",
    "&=\n",
    "\\left\\{\n",
    "\\begin{array}{ll}\n",
    "(0,0,0,0,0) & (1,0,0,0,0) & (0,1,1,0,0) & (0,1,0,1,0) \\\\ \n",
    "(0,1,0,0,0) & (0,0,1,0,0) & (0,0,1,1,0) & (0,1,1,1,0) \\\\ \n",
    "\\dots\n",
    "\\end{array} \n",
    "\\right.\n",
    "& \\cong \\mathbb Z^5_2\n",
    "\\\\\n",
    "C_2\n",
    "&=\n",
    "\\left\\{\n",
    "\\begin{array}{ll}\n",
    "0 & 1\n",
    "\\end{array} \n",
    "\\right.\n",
    "& \\cong \\mathbb Z_2\n",
    "\\end{align}\n",
    "$$"
   ]
  },
  {
   "cell_type": "markdown",
   "metadata": {},
   "source": [
    "To represent the boundary map (which is a linear map) of the group of $p$-simplices as a matrix, we set the columns to represent each $p$-simplex in the group, and the rows represent each $(p-1)$-simplex. We put a $1$ in each position of the matrix if the $(p-1)$-simplex row is a _face_ of the $p$-simplex column.\n",
    "\n",
    "We index rows and columns as an ordered pair $(i, j)$ respectively. Thus the element $a_{2,3}$ is the element in the 2nd row (from the top) and the 3rd column (from the left).\n",
    "\n",
    "The generic boundary matrix is thus (each column is a $p$-simplex, each row is a $(p-1)$-simplex):\n",
    "\n",
    "$$ \\begin{align}\n",
    "\\partial_p\n",
    "&=\n",
    "\\begin{pmatrix}\n",
    "a_{1,1} & a_{1,2} & a_{1,3} & \\cdots & a_{1,j}  \\\\ \n",
    "a_{2,1} & a_{2,2} & a_{2,3} & \\cdots & a_{2,j}  \\\\ \n",
    "a_{3,1} & a_{3,2} & a_{3,3} & \\cdots & a_{3,j}  \\\\\n",
    "\\vdots & \\vdots & \\vdots & \\ddots & \\vdots \\\\ \n",
    "a_{i,1} & a_{i,2} & a_{i,3} & \\cdots & a_{i,j}\n",
    "\\end{pmatrix} \n",
    "\\end{align}\n",
    "$$"
   ]
  },
  {
   "cell_type": "markdown",
   "metadata": {},
   "source": [
    "We'll start by representing the boundary map $\\partial(C_2)$ as a matrix. There's only one 2-simplex in $C_2$ so there is only one column, but there are five 1-simplices in $C_1$ so there are 5 rows.\n",
    "\n",
    "$$\n",
    "\\partial_2 \n",
    "=\n",
    "\\begin{array}{c|lcr}\n",
    "\\partial & [a,b,c] \\\\\n",
    "\\hline\n",
    "[a,b] & 1 \\\\\n",
    "[b,c] & 1 \\\\\n",
    "[c,a] & 1 \\\\\n",
    "[c,d] & 0 \\\\\n",
    "[d,b] & 0 \\\\\n",
    "\\end{array}\n",
    "$$\n",
    "\n",
    "We put a $1$ if each row-element was a face of the simplex $[a,b,c]$. This matrix makes sense as a linear map because if we multiply it by a vector element in $C_2$ (there's only 1, besides the 0 element) we get what we expect:\n",
    "\n",
    "$$\n",
    "\\begin{align}\n",
    "\\begin{pmatrix}\n",
    "1 \\\\\n",
    "1 \\\\\n",
    "1 \\\\\n",
    "0 \\\\\n",
    "0 \\\\\n",
    "\\end{pmatrix} * \n",
    "0 \\qquad\n",
    "&= \n",
    "\\qquad\n",
    "\\begin{pmatrix}\n",
    "0 \\\\\n",
    "0 \\\\\n",
    "0 \\\\\n",
    "0 \\\\\n",
    "0 \\\\\n",
    "\\end{pmatrix} \\\\\n",
    "\\begin{pmatrix}\n",
    "1 \\\\\n",
    "1 \\\\\n",
    "1 \\\\\n",
    "0 \\\\\n",
    "0 \\\\\n",
    "\\end{pmatrix} * \n",
    "1 \\qquad\n",
    "&= \n",
    "\\qquad\n",
    "\\begin{pmatrix}\n",
    "1 \\\\\n",
    "1 \\\\\n",
    "1 \\\\\n",
    "0 \\\\\n",
    "0 \\\\\n",
    "\\end{pmatrix}\n",
    "\\end{align}\n",
    "$$"
   ]
  },
  {
   "cell_type": "markdown",
   "metadata": {},
   "source": [
    "Okay, let's move on to building the boundary matrix $\\partial(C_1)$:\n",
    "\n",
    "$$\n",
    "\\partial_1 =\n",
    "\\begin{array}{c|lcr}\n",
    "\\partial & [a,b] & [b,c] & [c,a] & [c,d] & [d,b] \\\\\n",
    "\\hline\n",
    "a & 1 & 0 & 1 & 0 & 0 \\\\\n",
    "b & 1 & 1 & 0 & 0 & 1 \\\\\n",
    "c & 0 & 1 & 1 & 1 & 0 \\\\\n",
    "d & 0 & 0 & 0 & 1 & 1 \\\\\n",
    "\\end{array}\n",
    "$$"
   ]
  },
  {
   "cell_type": "markdown",
   "metadata": {},
   "source": [
    "Does this make sense? Let's check with some python/numpy. Let's take an arbitrary element from the group of 1-chains, namely: $[a,b]+[c,a]+[c,d]$ which we've encoded as $(1,0,1,1,0)$ and apply the boundary matrix and see what we get. "
   ]
  },
  {
   "cell_type": "code",
   "execution_count": 2,
   "metadata": {
    "collapsed": false
   },
   "outputs": [
    {
     "data": {
      "text/plain": [
       "matrix([[0],\n",
       "        [1],\n",
       "        [0],\n",
       "        [1]])"
      ]
     },
     "execution_count": 2,
     "metadata": {},
     "output_type": "execute_result"
    }
   ],
   "source": [
    "import numpy as np\n",
    "b1 = np.matrix([[1,0,1,0,0],[1,1,0,0,1],[0,1,1,1,0],[0,0,0,1,1]]) #boundary matrix C_1\n",
    "el = np.matrix([1,0,1,1,0]) #random element from C_1\n",
    "np.fmod(b1 * el.T, 2) # we want integers modulo 2"
   ]
  },
  {
   "cell_type": "markdown",
   "metadata": {},
   "source": [
    "$\\require{cancel}$\n",
    "\n",
    "Recall that $(0,1,0,1)$ translates to $b+d$. By hand we can calculate the boundary and compare: \n",
    "$$\\partial([a,b]+[c,a]+[c,d]) = a+b+c+a+c+d = \\cancel{a}+b+\\cancel{c}+\\cancel{a}+\\cancel{c}+d = b+d = (0,1,0,1)$$\n",
    "\n",
    "It works!"
   ]
  },
  {
   "cell_type": "markdown",
   "metadata": {},
   "source": [
    "Lastly, we need the boundary matrix for $C_0$ which is trivial since the boundary of $0$-simplices always maps to $0$, so $$\n",
    "\\partial_0 =\n",
    "\\begin{pmatrix}\n",
    "0 & 0 & 0 & 0 \\\\\n",
    "\\end{pmatrix}\n",
    "$$\n",
    "\n",
    "Okay, now we have our three boundary matrices, how do we calculate the Betti numbers? Well recall that sequence of subgroups of a chain group: $ B_n \\leq Z_n \\leq C_n $ which are the group of boundaries, group of cycles, and chain group, respectively."
   ]
  },
  {
   "cell_type": "markdown",
   "metadata": {},
   "source": [
    "Also recall that Betti $b_n = dim(Z_n\\ /\\ B_n)$. But that's when things were represented as just sets with group structure, now everything is represented as vectors and matrices, so instead we define the Betti number $b_n = rank(Z_n)\\ -\\ rank(B_n)$. What does __rank__ mean? Rank and dimension are related but not the same. If we think of the columns of a matrix as a set basis vectors: $\\beta_1, \\beta_2, \\dots \\beta_k$ then the dimension of the span of those column vectors $\\langle \\beta_1, \\beta_2, \\dots \\beta_k \\rangle$ is the rank of the matrix. It turns out that you can also use the rows and it will have the same result. Importantly, however, dimension is defined on the smallest set of basis elements, i.e. the basis elements that are linearly independent.\n",
    "\n",
    "The boundary matrix $\\partial_n$ contains the information for the chain group and cycles subgroup, and the $B_{n-1}$ boundary subgroup, all the information we need to calculate the Betti number. Unfortunately, in general, our naïve approach of building the boundary matrix is not in a form where the group and subgroup information is readily accessible. We need to modify the boundary matrix, without disturbing the mapping information it contains, into a new form called __Smith normal form__. Basically, the smith normal form of a matrix will have $1$s along the diagonal starting from the top left of the matrix and $0$s everywhere else."
   ]
  },
  {
   "cell_type": "markdown",
   "metadata": {},
   "source": [
    "For example,\n",
    "$$\n",
    "\\begin{align}\n",
    "\\text{Smith normal form}\n",
    "&:\\ \n",
    "\\begin{pmatrix}\n",
    "1 & 0 & 0 & \\cdots & 0  \\\\ \n",
    "0 & 1 & 0 & \\cdots & 0  \\\\ \n",
    "0 & 0 & 1 & \\cdots & 0  \\\\\n",
    "\\vdots & \\vdots & \\vdots & \\ddots & \\vdots \\\\ \n",
    "0 & 0 & 0 & \\cdots & ?\n",
    "\\end{pmatrix} \n",
    "\\end{align}\n",
    "$$\n",
    "\n",
    "Notice the $1$s along the diagonal do not necessarily need to extend all the way down to the bottom right. And here's the information available once it's in Smith normal form (the red diagonal box indicates the $1$s):\n",
    "<img src=\"images/TDAimages/part4/smithnormalformsubgroups.svg\" />\n",
    "(Source: \"COMPUTATIONAL TOPOLOGY\" by Edelsbrunner and Harer, pg. 104)"
   ]
  },
  {
   "cell_type": "markdown",
   "metadata": {},
   "source": [
    "So how do we get a matrix into Smith normal form? We do so by playing a game involving manipulating the matrix according to some rules. Here are the two allowed operations on the matrix:\n",
    "1. You can swap any two columns or any two rows in the matrix.\n",
    "2. You can add a column to another column, or a row to another row.\n",
    "\n",
    "Now you just need to apply these operations until you get the matrix in Smith normal form. I should point out that this process is alot easier when we use the field $\\mathbb Z_2$. Let's try it out on the boundary matrix for $C_1$."
   ]
  },
  {
   "cell_type": "markdown",
   "metadata": {},
   "source": [
    "$$\n",
    "\\partial_1 =\n",
    "\\begin{array}{c|lcr}\n",
    "\\partial & [a,b] & [b,c] & [c,a] & [c,d] & [d,b] \\\\\n",
    "\\hline\n",
    "a & 1 & 0 & 1 & 0 & 0 \\\\\n",
    "b & 1 & 1 & 0 & 0 & 1 \\\\\n",
    "c & 0 & 1 & 1 & 1 & 0 \\\\\n",
    "d & 0 & 0 & 0 & 1 & 1 \\\\\n",
    "\\end{array}\n",
    "$$"
   ]
  },
  {
   "cell_type": "markdown",
   "metadata": {},
   "source": [
    "We already have 1s across the diagonal, but we have a lot of 1s not along the diagonal.<br />\n",
    "Steps: Add column 3 to 5, then add column 4 to 5, then add column 5 to 1, then swap columns 1 and 5:\n",
    "$$\n",
    "\\partial_1 =\n",
    "\\begin{pmatrix}\n",
    "1 & 0 & 1 & 0 & 0 \\\\\n",
    "1 & 1 & 0 & 0 & 0 \\\\\n",
    "0 & 1 & 1 & 1 & 0 \\\\\n",
    "0 & 0 & 0 & 1 & 0 \\\\\n",
    "\\end{pmatrix}\n",
    "$$"
   ]
  },
  {
   "cell_type": "markdown",
   "metadata": {},
   "source": [
    "Steps: Add column 1 to 3, add column 2 to 3, swap columns 3 and 4, add row 1 to 2, add row 4 to 2, add row 3 to 2, add row 4 to 3, swap rows 3 and 2, swap rows 4 and 3. Stop.\n",
    "$$\n",
    "\\text{Smith normal form: }\n",
    "\\begin{pmatrix}\n",
    "1 & 0 & 0 & 0 & 0 \\\\\n",
    "0 & 1 & 0 & 0 & 0 \\\\\n",
    "0 & 0 & 1 & 0 & 0 \\\\\n",
    "0 & 0 & 0 & 0 & 0 \\\\\n",
    "\\end{pmatrix}\n",
    "$$\n",
    "Once we have the matrix in Smith normal form, we don't do any more operations. We could of course continue adding rows and columns together until we get a matrix of only 0s, but that wouldn't be very helpful! I sort of randomly added rows/columns to get it into the Smith normal form, but there really is an algorithm that can do it relatively efficiently.\n",
    "\n",
    "Rather than walk through the detailed implementation of the Smith normal form algorithm, I will merely use an <a href=\"https://triangleinequality.wordpress.com/2014/01/23/computing-homology/\">existing algorithm</a>:"
   ]
  },
  {
   "cell_type": "code",
   "execution_count": 41,
   "metadata": {
    "collapsed": false
   },
   "outputs": [],
   "source": [
    "def reduce_matrix(matrix):\n",
    "    #Returns [reduced_matrix, rank, nullity]\n",
    "    if np.size(matrix)==0:\n",
    "        return [matrix,0,0]\n",
    "    m=matrix.shape[0]\n",
    "    n=matrix.shape[1]\n",
    " \n",
    "    def _reduce(x):\n",
    "        #We recurse through the diagonal entries.\n",
    "        #We move a 1 to the diagonal entry, then\n",
    "        #knock out any other 1s in the same  col/row.\n",
    "        #The rank is the number of nonzero pivots,\n",
    "        #so when we run out of nonzero diagonal entries, we will\n",
    "        #know the rank.\n",
    "        nonzero=False\n",
    "        #Searching for a nonzero entry then moving it to the diagonal.\n",
    "        for i in range(x,m):\n",
    "            for j in range(x,n):\n",
    "                if matrix[i,j]==1:\n",
    "                    matrix[[x,i],:]=matrix[[i,x],:]\n",
    "                    matrix[:,[x,j]]=matrix[:,[j,x]]\n",
    "                    nonzero=True\n",
    "                    break\n",
    "            if nonzero:\n",
    "                break\n",
    "        #Knocking out other nonzero entries.\n",
    "        if nonzero:\n",
    "            for i in range(x+1,m):\n",
    "                if matrix[i,x]==1:\n",
    "                    matrix[i,:] = np.logical_xor(matrix[x,:], matrix[i,:])\n",
    "            for i in range(x+1,n):\n",
    "                if matrix[x,i]==1:\n",
    "                    matrix[:,i] = np.logical_xor(matrix[:,x], matrix[:,i])\n",
    "            #Proceeding to next diagonal entry.\n",
    "            return _reduce(x+1)\n",
    "        else:\n",
    "            #Run out of nonzero entries so done.\n",
    "            return x\n",
    "    rank=_reduce(0)\n",
    "    return [matrix, rank, n-rank]\n",
    "\n",
    "# Source: < https://triangleinequality.wordpress.com/2014/01/23/computing-homology/ >"
   ]
  },
  {
   "cell_type": "code",
   "execution_count": 29,
   "metadata": {
    "collapsed": false
   },
   "outputs": [
    {
     "data": {
      "text/plain": [
       "[matrix([[1, 0, 0, 0, 0],\n",
       "         [0, 1, 0, 0, 0],\n",
       "         [0, 0, 1, 0, 0],\n",
       "         [0, 0, 0, 0, 0]]), 3, 2]"
      ]
     },
     "execution_count": 29,
     "metadata": {},
     "output_type": "execute_result"
    }
   ],
   "source": [
    "reduce_matrix(b1)\n",
    "#Returns the matrix in Smith normal form as well as rank(B_n-1) and rank(Z_n)"
   ]
  },
  {
   "cell_type": "markdown",
   "metadata": {},
   "source": [
    "As you can see we got the same result by hand, but surely the algorithm was more efficient.\n",
    "\n",
    "Since each boundary map gives us $Z_n$ (cycles) and $B_{n-1}$ (boundary for (n-1)-chain group) we need both $\\partial_n$ and $\\partial_{n+1}$ in order to calculate the Betti number for chain group $n$. Remember, we now calculate Betti numbers as <br />\n",
    "Betti $b_n = rank(Z_n) - rank(B_n)$\n",
    "\n",
    "Let's start calculating those Betti numbers."
   ]
  },
  {
   "cell_type": "code",
   "execution_count": 40,
   "metadata": {
    "collapsed": false
   },
   "outputs": [
    {
     "name": "stdout",
     "output_type": "stream",
     "text": [
      "[matrix([[0, 0, 0, 0]]), 0, 4]\n",
      "[matrix([[1, 0, 0, 0, 0],\n",
      "        [0, 1, 0, 0, 0],\n",
      "        [0, 0, 1, 0, 0],\n",
      "        [0, 0, 0, 0, 0]]), 3, 2]\n",
      "[matrix([[1, 0, 0, 0, 0]]), 1, 4]\n",
      "Betti #0: 1 \n",
      " Betti #1: 1 \n",
      " Betti #2: 0\n"
     ]
    }
   ],
   "source": [
    "#Initialize boundary matrices\n",
    "boundaryMap0 = np.matrix([[0,0,0,0]])\n",
    "boundaryMap1 = np.matrix([[1,0,1,0,0],[1,1,0,0,1],[0,1,1,1,0],[0,0,0,1,1]])\n",
    "boundaryMap2 = np.matrix([[1,1,1,0,0]])\n",
    "\n",
    "#Smith normal forms of the boundary matrices\n",
    "smithBM0 = reduce_matrix(boundaryMap0)\n",
    "smithBM1 = reduce_matrix(boundaryMap1)\n",
    "smithBM2 = reduce_matrix(boundaryMap2)\n",
    "\n",
    "#Calculate Betti numbers\n",
    "betti0 = (smithBM0[2] - smithBM1[1])\n",
    "betti1 = (smithBM1[2] - smithBM2[1])\n",
    "betti2 = 0  #There is no n+1 chain group, so the Betti is 0\n",
    "\n",
    "print(smithBM0)\n",
    "print(smithBM1)\n",
    "print(smithBM2)\n",
    "print(\"Betti #0: %s \\n Betti #1: %s \\n Betti #2: %s\" % (betti0, betti1, betti2))"
   ]
  },
  {
   "cell_type": "markdown",
   "metadata": {},
   "source": [
    "Great it worked!\n",
    "\n",
    "But we skipped an important step. We designed the boundary matrices by hand initially, in order to algorithm-ize the entire process from building a simplicial complex over data to computing Betti numbers, we need an algorithm that takes a simplicial complex and builds the boundary matrices. Let's tackle that now."
   ]
  },
  {
   "cell_type": "code",
   "execution_count": 138,
   "metadata": {
    "collapsed": false
   },
   "outputs": [],
   "source": [
    "#return the n-simplices in a complex\n",
    "def nSimplices(n, complex):\n",
    "    nchain = []\n",
    "    for simplex in complex:\n",
    "        if len(simplex) == (n+1):\n",
    "            nchain.append(simplex)\n",
    "    if (nchain == []): nchain = [0]\n",
    "    return nchain\n",
    "\n",
    "#check if simplex is a face of another simplex\n",
    "def checkFace(face, simplex):\n",
    "    if simplex == 0:\n",
    "        return 1\n",
    "    elif set(face) < set(simplex): #if face is a subset of simplex\n",
    "        return 1\n",
    "    else:\n",
    "        return 0\n",
    "    \n",
    "#build boundary matrix for dimension n ---> (n-1) = p\n",
    "def boundaryMatrix(nchain, pchain):\n",
    "    bmatrix = np.zeros((len(nchain),len(pchain)))\n",
    "    i = 0\n",
    "    for nSimplex in nchain:\n",
    "        j = 0\n",
    "        for pSimplex in pchain:\n",
    "            bmatrix[i, j] = checkFace(pSimplex, nSimplex)\n",
    "            j += 1\n",
    "        i += 1\n",
    "    return bmatrix.T"
   ]
  },
  {
   "cell_type": "markdown",
   "metadata": {},
   "source": [
    "Those are very simple helper functions that we'll use to build the boundary matrix and then use the previously described reduction algorithm to get it into Smith normal form. Remember, the simplicial complex example we're using looks like this:\n",
    "<img src=\"images/TDAimages/part4/simplicialcomplex5b.svg\" />\n",
    "I've just replaced {a,b,c,d} with {0,1,2,3} so Python can understand it."
   ]
  },
  {
   "cell_type": "code",
   "execution_count": 139,
   "metadata": {
    "collapsed": false
   },
   "outputs": [
    {
     "data": {
      "text/plain": [
       "[array([[ 1.,  0.,  0.,  0.,  0.],\n",
       "        [ 0.,  1.,  0.,  0.,  0.],\n",
       "        [ 0.,  0.,  1.,  0.,  0.],\n",
       "        [ 0.,  0.,  0.,  0.,  0.]]), 3, 2]"
      ]
     },
     "execution_count": 139,
     "metadata": {},
     "output_type": "execute_result"
    }
   ],
   "source": [
    "S = [{0}, {1}, {2}, {3}, {0, 1}, {1, 2}, {2, 0}, {2, 3}, {3, 1}, {0, 1, 2}] #this is our simplex from above\n",
    "\n",
    "chain2 = nSimplices(1, S)\n",
    "chain1 = nSimplices(0, S)\n",
    "reduce_matrix(boundaryMatrix(chain2, chain1))"
   ]
  },
  {
   "cell_type": "markdown",
   "metadata": {},
   "source": [
    "Now let's put everything together and make a function that will return all the Betti numbers of a simplicial complex."
   ]
  },
  {
   "cell_type": "code",
   "execution_count": 206,
   "metadata": {
    "collapsed": false
   },
   "outputs": [],
   "source": [
    "def betti(complex):\n",
    "    max_dim = len(max(complex, key=len)) #get the maximum dimension of the simplicial complex, 2 in our example\n",
    "    betti_array = np.zeros(max_dim) #setup array to store n-th dimensional Betti numbers\n",
    "    z_n = np.zeros(max_dim) #number of cycles (from cycle group)\n",
    "    b_n = np.zeros(max_dim) #b_(n-1) boundary group\n",
    "    for i in range(max_dim): #loop through each dimension starting from maximum to generate boundary maps\n",
    "        bm = 0 #setup n-th boundary matrix\n",
    "        chain2 = nSimplices(i, complex) #n-th chain group\n",
    "        if i==0: #there is no n+1 boundary matrix in this case\n",
    "            bm = 0\n",
    "            z_n[i] = len(chain2)\n",
    "            b_n[i] = 0\n",
    "        else:\n",
    "            chain1 = nSimplices(i-1, complex) #(n-1)th chain group\n",
    "            bm = reduce_matrix(boundaryMatrix(chain2, chain1))\n",
    "            z_n[i] = bm[2]\n",
    "            b_n[i] = bm[1] #b_(n-1)\n",
    "\n",
    "    for i in range(max_dim): #Calculate betti number: Z_n - B_n\n",
    "        if (i+1) < max_dim:\n",
    "            betti_array[i] = z_n[i] - b_n[i+1]\n",
    "        else:\n",
    "            betti_array[i] = z_n[i] - 0 #if there are no higher simplices, the boundary group of this chain is 0\n",
    "\n",
    "    return betti_array"
   ]
  },
  {
   "cell_type": "markdown",
   "metadata": {},
   "source": [
    "Alright, no we should have everything we need to calculate the set of Betti numbers on any arbitrary simplicial complex given in the right format. Keep in mind that all this code is for learning purposes so I've kept it intentionally simple. It is not production ready. It has basically no safety checks so it will just fail if it gets something even slightly unexpected.\n",
    "\n",
    "But let's see how versatile our procedure is by trying it out on various simplicial complexes. \n",
    "\n",
    "Let $H = \\text{ { {0}, {1}, {2}, {3}, {4}, {5}, {4, 5}, {0, 1}, {1, 2}, {2, 0}, {2, 3}, {3, 1}, {0, 1, 2} } }$\n",
    "<img src=\"images/TDAimages/part4/simplicialComplex7a.png\" />\n",
    "\n",
    "As you can tell this is the same simplicial complex we've been working with except now it has a disconnected edge on the right. Thus we should get Betti=2 for dimension 0 since there are 2 connect components."
   ]
  },
  {
   "cell_type": "code",
   "execution_count": 212,
   "metadata": {
    "collapsed": false
   },
   "outputs": [
    {
     "data": {
      "text/plain": [
       "array([ 2.,  1.,  0.])"
      ]
     },
     "execution_count": 212,
     "metadata": {},
     "output_type": "execute_result"
    }
   ],
   "source": [
    "H = [{0}, {1}, {2}, {3}, {4}, {5}, {4, 5}, {0, 1}, {1, 2}, {2, 0}, {2, 3}, {3, 1}, {0, 1, 2}]\n",
    "betti(H)"
   ]
  },
  {
   "cell_type": "markdown",
   "metadata": {},
   "source": [
    "Let's try another one, now with 2 cycles and 2 connect components. <br />\n",
    "Let $Y_1 = \\text{ { {0}, {1}, {2}, {3}, {4}, {5}, {6}, {0, 6}, {2, 6}, {4, 5}, {0, 1}, {1, 2}, {2, 0}, {2, 3}, {3, 1}, {0, 1, 2} } }$\n",
    "<img src=\"images/TDAimages/part4/simplicialComplex7b.png\" />"
   ]
  },
  {
   "cell_type": "code",
   "execution_count": 213,
   "metadata": {
    "collapsed": false
   },
   "outputs": [
    {
     "data": {
      "text/plain": [
       "array([ 2.,  2.,  0.])"
      ]
     },
     "execution_count": 213,
     "metadata": {},
     "output_type": "execute_result"
    }
   ],
   "source": [
    "Y1 = [{0}, {1}, {2}, {3}, {4}, {5}, {6}, {0, 6}, {2, 6}, {4, 5}, {0, 1}, {1, 2}, {2, 0}, {2, 3}, {3, 1}, {0, 1, 2}]\n",
    "betti(Y1)"
   ]
  },
  {
   "cell_type": "markdown",
   "metadata": {},
   "source": [
    "Here's another. I just added a stranded vertex: <br />\n",
    "Let $Y_2 = \\text{ { {0}, {1}, {2}, {3}, {4}, {5}, {6}, {7}, {0, 6}, {2, 6}, {4, 5}, {0, 1}, {1, 2}, {2, 0}, {2, 3}, {3, 1}, {0, 1, 2} } }$\n",
    "<img src=\"images/TDAimages/part4/simplicialComplex7c.png\" />"
   ]
  },
  {
   "cell_type": "code",
   "execution_count": 214,
   "metadata": {
    "collapsed": false
   },
   "outputs": [
    {
     "data": {
      "text/plain": [
       "array([ 3.,  2.,  0.])"
      ]
     },
     "execution_count": 214,
     "metadata": {},
     "output_type": "execute_result"
    }
   ],
   "source": [
    "Y2 = [{0}, {1}, {2}, {3}, {4}, {5}, {6}, {7}, {0, 6}, {2, 6}, {4, 5}, {0, 1}, {1, 2}, {2, 0}, {2, 3}, {3, 1}, {0, 1, 2}]\n",
    "betti(Y2)"
   ]
  },
  {
   "cell_type": "markdown",
   "metadata": {},
   "source": [
    "One last one. This is a hollow tetrahedron:\n",
    "<img src=\"images/TDAimages/part4/simplicialComplex8a.png\" />"
   ]
  },
  {
   "cell_type": "code",
   "execution_count": 215,
   "metadata": {
    "collapsed": false
   },
   "outputs": [
    {
     "data": {
      "text/plain": [
       "array([ 1.,  0.,  1.])"
      ]
     },
     "execution_count": 215,
     "metadata": {},
     "output_type": "execute_result"
    }
   ],
   "source": [
    "D = [{0}, {1}, {2}, {3}, {0,1}, {1,3}, {3,2}, {2,0}, {2,1}, {0,3}, {0,1,3}, {0,1,2}, {2,0,3}, {1,2,3}]\n",
    "betti(D)"
   ]
  },
  {
   "cell_type": "markdown",
   "metadata": {},
   "source": [
    "Exactly what we expect! Okay, it looks like we can reliably calculate Betti numbers for any arbitrary simplicial complex. \n",
    "\n",
    "###### What's next? \n",
    "These first 4 posts were all just exposition on the math and concepts behind persistent homology, but so far all we've done is (non-persistent) homology. Remember back in part 2 where we wrote an algorithm to build a simplicial complex from data? Well recall that we needed to arbitrarily choose a parameter $\\epsilon$ that determined whether or not two vertices were close enough to connect with an edge. If we set a small $\\epsilon$ then we'd have a very dense graph with a lot of edges, if we chose a large $\\epsilon$ then we'd get a more sparse graph.\n",
    "\n",
    "The problem is we have no way of knowing what the \"correct\" $\\epsilon$ value should be. We will get dramatically different simplicial complexes (and thus different homology groups and Betti numbers) with varying levels of $\\epsilon$. Persistent homology basically says: let's just continuously scale $\\epsilon$ from 0 to the maximal value (where all vertices are edge-wise connected) and see which topological features _persist_ the longest. We then believe that topological features (e.g. connected components, cycles) that are short-lived across scaling $\\epsilon$ are noise whereas those that are long-lived (i.e. persistent) are _real_ features of the data. So next time we will work on modifying our algorithms to be able to continuously vary $\\epsilon$ while tracking changes in the calculated homology groups."
   ]
  },
  {
   "cell_type": "markdown",
   "metadata": {},
   "source": [
    "#### References (Websites):\n",
    "\n",
    "1. http://dyinglovegrape.com/math/topology_data_1.php\n",
    "2. http://www.math.uiuc.edu/~r-ash/Algebra/Chapter4.pdf\n",
    "3. https://en.wikipedia.org/wiki/Group_(mathematics)\n",
    "4. https://jeremykun.com/2013/04/03/homology-theory-a-primer/\n",
    "5. http://suess.sdf-eu.org/website/lang/de/algtop/notes4.pdf\n",
    "6. http://www.mit.edu/~evanchen/napkin.html\n",
    "7. https://triangleinequality.wordpress.com/2014/01/23/computing-homology"
   ]
  },
  {
   "cell_type": "markdown",
   "metadata": {
    "collapsed": true
   },
   "source": [
    "#### References (Academic Publications):\n",
    "7. Basher, M. (2012). On the Folding of Finite Topological Space. International Mathematical Forum, 7(15), 745–752. Retrieved from http://www.m-hikari.com/imf/imf-2012/13-16-2012/basherIMF13-16-2012.pdf\n",
    "\n",
    "8. Day, M. (2012). Notes on Cayley Graphs for Math 5123 Cayley graphs, 1–6.\n",
    "\n",
    "9. Doktorova, M. (2012). CONSTRUCTING SIMPLICIAL COMPLEXES OVER by, (June).\n",
    "\n",
    "10. Edelsbrunner, H. (2006). IV.1 Homology. Computational Topology, 81–87. Retrieved from http://www.cs.duke.edu/courses/fall06/cps296.1/\n",
    "\n",
    "11. Erickson, J. (1908). Homology. Computational Topology, 1–11.\n",
    "\n",
    "12. Evan Chen. (2016). An Infinitely Large Napkin.\n",
    "\n",
    "13. Grigor’yan, A., Muranov, Y. V., & Yau, S. T. (2014). Graphs associated with simplicial complexes. Homology, Homotopy and Applications, 16(1), 295–311. http://doi.org/10.4310/HHA.2014.v16.n1.a16\n",
    "\n",
    "14. Kaczynski, T., Mischaikow, K., & Mrozek, M. (2003). Computing homology. Homology, Homotopy and Applications, 5(2), 233–256. http://doi.org/10.4310/HHA.2003.v5.n2.a8\n",
    "\n",
    "15. Kerber, M. (2016). Persistent Homology – State of the art and challenges 1 Motivation for multi-scale topology. Internat. Math. Nachrichten Nr, 231(231), 15–33.\n",
    "\n",
    "16. Khoury, M. (n.d.). Lecture 6 : Introduction to Simplicial Homology Topics in Computational Topology : An Algorithmic View, 1–6.\n",
    "\n",
    "17. Kraft, R. (2016). Illustrations of Data Analysis Using the Mapper Algorithm and Persistent Homology.\n",
    "\n",
    "18. Lakshmivarahan, S., & Sivakumar, L. (2016). Cayley Graphs, (1), 1–9.\n",
    "\n",
    "19. Liu, X., Xie, Z., & Yi, D. (2012). A fast algorithm for constructing topological structure in large data. Homology, Homotopy and Applications, 14(1), 221–238. http://doi.org/10.4310/HHA.2012.v14.n1.a11\n",
    "\n",
    "20. Naik, V. (2006). Group theory : a first journey, 1–21.\n",
    "\n",
    "21. Otter, N., Porter, M. A., Tillmann, U., Grindrod, P., & Harrington, H. A. (2015). A roadmap for the computation of persistent homology. Preprint ArXiv, (June), 17. Retrieved from http://arxiv.org/abs/1506.08903\n",
    "\n",
    "22. Semester, A. (2017). § 4 . Simplicial Complexes and Simplicial Homology, 1–13.\n",
    "\n",
    "23. Singh, G. (2007). Algorithms for Topological Analysis of Data, (November).\n",
    "\n",
    "24. Zomorodian, A. (2009). Computational Topology Notes. Advances in Discrete and Computational Geometry, 2, 109–143. Retrieved from http://citeseerx.ist.psu.edu/viewdoc/summary?doi=10.1.1.50.7483\n",
    "\n",
    "25. Zomorodian, A. (2010). Fast construction of the Vietoris-Rips complex. Computers and Graphics (Pergamon), 34(3), 263–271. http://doi.org/10.1016/j.cag.2010.03.007\n",
    "\n",
    "26. Symmetry and Group Theory 1. (2016), 1–18. http://doi.org/10.1016/B978-0-444-53786-7.00026-5"
   ]
  }
 ],
 "metadata": {
  "kernelspec": {
   "display_name": "Python 3",
   "language": "python",
   "name": "python3"
  },
  "language_info": {
   "codemirror_mode": {
    "name": "ipython",
    "version": 3
   },
   "file_extension": ".py",
   "mimetype": "text/x-python",
   "name": "python",
   "nbconvert_exporter": "python",
   "pygments_lexer": "ipython3",
   "version": "3.6.0"
  }
 },
 "nbformat": 4,
 "nbformat_minor": 0
}
