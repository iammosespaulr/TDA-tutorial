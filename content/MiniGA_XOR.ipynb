{
 "cells": [
  {
   "cell_type": "markdown",
   "metadata": {},
   "source": [
    "###Simple Genetic Algorithm in Python --Addendum"
   ]
  },
  {
   "cell_type": "markdown",
   "metadata": {},
   "source": [
    "#####A brief addendum to my previous post <a href=\"Simple-Genetic-Algorithm-in-15-lines-of-Python/\">\"Simple Genetic Algorithm In 15 Lines Of Python\"</a>\n",
    "\n",
    "<p>First, I'd like to apologize for jumping on the here's-how-to-implement-X-in-Y-lines-of-code bandwagon in my previous post. As many people have pointed out, who care's how many lines of code it takes to implement X as long as it's well-explained?</p>\n",
    "\n",
    "<p>Okay, now that I've cleansed my soul of that sin, let's get to what this addendum is all about. Basically this is just a quick demonstration of the same genetic algorithm (GA) from my last post except instead of using it to find the weights for that ultra-simple 2-layer neural network, I've just modified it slightly to find the weights for a 3 layer XOR neural network (yes, I'm tired of XOR too, but it's just soo useful). So this neural network has a total of 13 weights: 3x3 weights for the input-to-hidden layer, and 4x1 weights for the hidden-to-output layer.\n",
    "</p>\n",
    "\n",
    "<p><em>__Why is this necessary?__</em> I received some comments that suggested doubt over whether the genetic algorithm is actually robust. I think that's valid because the problem it was solving was really too easy. With such a small search space, there was likely a good solution in the very first, randomly intialized, generation. Thus it is a reasonable suspicion that our mutation and 'mating' process, for example, weren't actually contributing to solving the problem. Extending our search space from a 3-element vector to a 13-element vector significantly increases the difficulty of the problem and we can see the GA utilizing all it's evolutionary 'tools,' so to speak.</p>\n",
    "\n",
    "<p> We'll begin by running it with some optimized parameters I figured out empirically, but then we'll explore the effects of varying the parameters and hopefully convince ourselves the GA is actually 'evolving' toward an optimal solution versus doing something less interesting.</p>\n",
    "\n",
    "<p>\n",
    "I'm not going to go line-by-line and explain what's going on here, because I really haven't changed much from my previous post and this isn't meant to be a tutorial, it's an exploration. Here's the code for the XOR neural network (which I store in a separate file and import into the GA file).\n",
    "</p>"
   ]
  },
  {
   "cell_type": "code",
   "execution_count": 70,
   "metadata": {
    "collapsed": false
   },
   "outputs": [
    {
     "name": "stdout",
     "output_type": "stream",
     "text": [
      "Random theta: \n",
      "[[ 0.71]\n",
      " [ 0.53]\n",
      " [ 0.74]\n",
      " [ 0.7 ]]\n",
      "\n",
      "Cost: 2.13729248257\n",
      "\n",
      "Optimal theta: \n",
      "[[ 0.]\n",
      " [ 1.]\n",
      " [ 1.]\n",
      " [ 0.]]\n",
      "\n",
      "Cost: 0.00107762026703\n",
      "\n"
     ]
    }
   ],
   "source": [
    "import numpy as np\n",
    "import math\n",
    "\n",
    "X = np.array([[0,0,1],[0,1,1],[1,0,1],[1,1,1]]) #the third element in each tuple is the bias value (1)\n",
    "y = np.array([[0, 1, 1, 0]]).T\n",
    "init_theta = 10*(np.random.random((13,1)) - 0.5) #lazy way to initialize\n",
    "\n",
    "def runForward(X, theta):\n",
    "\ttheta1 = np.array(theta[:9]).reshape(3,3)\n",
    "\ttheta2 = np.array(theta[9:]).reshape(4,1)\n",
    "\th1 = sigmoid(np.dot(X, theta1)) #4x3 * 3x3 = 4x3\n",
    "\th1_bias = np.insert(h1, 3, [1,1,1,1], axis=1)\n",
    "\toutput = sigmoid(np.dot(h1_bias, theta2)) #4x4 * 4x1 = 4x1\n",
    "\treturn output\n",
    "\t#4x3 * 3x1 = 4x1\n",
    "def costFunction(X, y, theta):\n",
    "\tm = float(len(X))\n",
    "\thThetaX = np.array(runForward(X, theta))\n",
    "\treturn np.sum(np.abs(y - hThetaX))\n",
    "def sigmoid(x): return 1 / (1 + np.exp(- x))\n",
    "\n",
    "def demoRun():\n",
    "\tprint(\"Random theta: \\n%s\\n\" % (np.round(runForward(X, init_theta), 2)))\n",
    "\tprint(\"Cost: %s\\n\" % (costFunction(X,y, init_theta)))\n",
    "    #this \"optimal theta\" was found from a previous run of the GA\n",
    "\ttheta = np.array([-10.27649069, -14.03, 10.45888659, 9.12, 14.87, -21.50294038, 1.85, -13.28, \n",
    "                       -0.15360052, -11.21345025, 35.77912716, 11.05, -2.49589577])\n",
    "\tprint(\"Optimal theta: \\n%s\\n\" % (np.round(runForward(X, theta), 2)))\n",
    "\tprint(\"Cost: %s\\n\" % (costFunction(X, y, theta)))\n",
    "demoRun()"
   ]
  },
  {
   "cell_type": "markdown",
   "metadata": {},
   "source": [
    "Okay, just making sure the neural network works properly...and it does...\n",
    "\n",
    "Keep in mind that we're working with 'unrolled' theta (weight) vectors. Unlike my previous post that only had one set of weights between the two layers, now we have 3 layers but our GA is only going to generate and use 1-dimensional vectors of length 13, then our neural network will just slice that up to get two weight vectors, theta1 and theta2. I.e. theta1 = the first 9 elements reshaped to a 3x3 matrix, and theta2 = the last 4 elements reshaped to a 4x1 matrix.\n",
    "\n",
    "Here's the code for the GA. It's nearly exactly the same as the GA code posted at the bottom (the more readable version) of the previous post.\n",
    "\n",
    "I've made the following modifications to the paremeters:\n",
    "\n",
    "1. Reduced the initial population (initPop) size to 80. Why? To reduce chance of getting a good solution from the random first generation, I want to make sure to show off the evolutionary process.\n",
    "2. Reduced mutation rate (mutRate) to 0.01 = 1%. I did this from experimenting.\n",
    "3. Changed the number of generations (numGen) to 30\n",
    "4. Increased the solution length from 3 to 13 (since our new unrolled theta vector is of length 13)\n",
    "\n",
    "Alright, let's watch it run with those parameters:"
   ]
  },
  {
   "cell_type": "code",
   "execution_count": 15,
   "metadata": {
    "collapsed": false
   },
   "outputs": [
    {
     "name": "stdout",
     "output_type": "stream",
     "text": [
      "Best Sol'n:\n",
      "[[-10.27649069 -14.03        10.45888659   9.12        14.87       -21.50294038\n",
      "    1.85       -13.28        -0.15360052 -11.21345025  35.77912716  11.05\n",
      "   -2.49589577]]\n",
      "Cost:0.00107762027157\n",
      "When X = \n",
      "[[0 0]\n",
      " [0 1]\n",
      " [1 0]\n",
      " [1 1]] \n",
      "hThetaX = \n",
      "[[ 0.]\n",
      " [ 1.]\n",
      " [ 1.]\n",
      " [ 0.]]\n"
     ]
    },
    {
     "data": {
      "image/png": "[encoded data removed]",
      "text/plain": [
       "<matplotlib.figure.Figure at 0x1069e4630>"
      ]
     },
     "metadata": {},
     "output_type": "display_data"
    }
   ],
   "source": [
    "import matplotlib as plt\n",
    "%matplotlib inline\n",
    "import random as rn, numpy as np\n",
    "import NeuralNetXOR as NN\n",
    "# [Initial population size, mutation rate (=1%), num generations (30), solution length (30), # winners/per gen]\n",
    "initPop, mutRate, numGen, solLen, numWin = 80, 0.01, 30, 13, 10\n",
    "#initialize current population to random values within range\n",
    "curPop = np.random.choice(np.arange(-15,15,step=0.01),size=(initPop, solLen),replace=False) \n",
    "nextPop = np.zeros((curPop.shape[0], curPop.shape[1]))\n",
    "fitVec = np.zeros((initPop, 2)) #1st col is indices, 2nd col is cost\n",
    "for i in range(numGen): #iterate through num generations\n",
    "    #Create vector of all errors from cost function for each solution\n",
    "\tfitVec = np.array([np.array([x, np.sum(NN.costFunction(NN.X, NN.y, curPop[x].T))]) for x in range(initPop)])\n",
    "\tplt.pyplot.scatter(i,np.sum(fitVec[:,1]))\n",
    "\twinners = np.zeros((numWin, solLen))\n",
    "\tfor n in range(len(winners)): #for n in range(10)\n",
    "\t\tselected = np.random.choice(range(len(fitVec)), numWin/2, replace=False)\n",
    "\t\twnr = np.argmin(fitVec[selected,1])\n",
    "\t\twinners[n] = curPop[int(fitVec[selected[wnr]][0])]\n",
    "\tnextPop[:len(winners)] = winners #populate new gen with winners\n",
    "\tduplicWin = np.zeros((((initPop - len(winners))),winners.shape[1]))\n",
    "\tfor x in range(winners.shape[1]): #for each col in winners (3 cols)\n",
    "        #Duplicate winners (20x3 matrix) 3 times to create 80x3 matrix, then shuffle columns\n",
    "\t\tnumDups = ((initPop - len(winners))/len(winners)) #num times to duplicate to fill rest of nextPop\n",
    "\t\tduplicWin[:, x] = np.repeat(winners[:, x], numDups, axis=0)#duplicate each col\n",
    "\t\tduplicWin[:, x] = np.random.permutation(duplicWin[:, x]) #shuffle each col (\"crossover\")\n",
    "    #Populate the rest of the generation with offspring of mating pairs\n",
    "\tnextPop[len(winners):] = np.matrix(duplicWin)\n",
    "    #Create a mutation matrix, mostly 1s, but some elements are random numbers from a normal distribution\n",
    "\tmutMatrix = [np.float(np.random.normal(0,2,1)) if rn.random() < mutRate else 1 for x in range(nextPop.size)]\n",
    "    #randomly mutate part of the population by multiplying nextPop by our mutation matrix\n",
    "\tnextPop = np.multiply(nextPop, np.matrix(mutMatrix).reshape(nextPop.shape)) \n",
    "\tcurPop = nextPop\n",
    "plt.pyplot.ylabel('Total cost/err')\n",
    "plt.pyplot.xlabel('Generation #')\n",
    "best_soln = curPop[np.argmin(fitVec[:,1])]\n",
    "X = np.array([[0,0,1],[0,1,1],[1,0,1],[1,1,1]])\n",
    "result = np.round(NN.runForward(X, best_soln.T))\n",
    "print(\"Best Sol'n:\\n%s\\nCost:%s\" % (best_soln,np.sum(NN.costFunction(NN.X, NN.y, best_soln.T))))\n",
    "print(\"When X = \\n%s \\nhThetaX = \\n%s\" % (X[:,:2], result,))"
   ]
  },
  {
   "cell_type": "markdown",
   "metadata": {},
   "source": [
    "You can see it converges after about 10 generations, a little over twice as long as it took for the simple 2-layer neural network despite our search space is more than 4 times bigger. With the parameters I've used here, it properly converges almost every time I run it.\n",
    " \n",
    "Now I want to demonstrate what it looks like when we change the mutation rate to __10%__ (I've removed all the comments to reduce the code size a bit)."
   ]
  },
  {
   "cell_type": "code",
   "execution_count": 73,
   "metadata": {
    "collapsed": false
   },
   "outputs": [
    {
     "name": "stdout",
     "output_type": "stream",
     "text": [
      "Best Sol'n:\n",
      "[[ -8.01259712e+00   3.14587352e+01   1.40600000e+01   6.65543028e-02\n",
      "    1.01012825e+02  -8.45144543e+01   8.72955079e+00  -1.04300000e+01\n",
      "   -4.53000000e+00  -1.74629574e+01   2.64781112e+01   6.63253301e+01\n",
      "   -1.97971192e+00]]\n",
      "Cost:1.00087335923\n",
      "When X = \n",
      "[[0 0]\n",
      " [0 1]\n",
      " [1 0]\n",
      " [1 1]] \n",
      "hThetaX = \n",
      "[[ 0.]\n",
      " [ 1.]\n",
      " [ 1.]\n",
      " [ 1.]]\n"
     ]
    },
    {
     "data": {
      "image/png": "[encoded data removed]",
      "text/plain": [
       "<matplotlib.figure.Figure at 0x106d31da0>"
      ]
     },
     "metadata": {},
     "output_type": "display_data"
    }
   ],
   "source": [
    "import matplotlib as plt, random as rn, numpy as np, NeuralNetXOR as NN\n",
    "%matplotlib inline\n",
    "initPop, mutRate, numGen, solLen, numWin = 80, 0.10, 30, 13, 10\n",
    "curPop = np.random.choice(np.arange(-15,15,step=0.01),size=(initPop, solLen),replace=False) \n",
    "nextPop = np.zeros((curPop.shape[0], curPop.shape[1]))\n",
    "fitVec = np.zeros((initPop, 2))\n",
    "for i in range(numGen):\n",
    "\tfitVec = np.array([np.array([x, np.sum(NN.costFunction(NN.X, NN.y, curPop[x].T))]) for x in range(initPop)])\n",
    "\tplt.pyplot.scatter(i,np.sum(fitVec[:,1]))\n",
    "\twinners = np.zeros((numWin, solLen))\n",
    "\tfor n in range(len(winners)):\n",
    "\t\tselected = np.random.choice(range(len(fitVec)), numWin/2, replace=False)\n",
    "\t\twnr = np.argmin(fitVec[selected,1])\n",
    "\t\twinners[n] = curPop[int(fitVec[selected[wnr]][0])]\n",
    "\tnextPop[:len(winners)] = winners\n",
    "\tduplicWin = np.zeros((((initPop - len(winners))),winners.shape[1]))\n",
    "\tfor x in range(winners.shape[1]):\n",
    "\t\tnumDups = ((initPop - len(winners))/len(winners))\n",
    "\t\tduplicWin[:, x] = np.repeat(winners[:, x], numDups, axis=0)\n",
    "\t\tduplicWin[:, x] = np.random.permutation(duplicWin[:, x])\n",
    "\tnextPop[len(winners):] = np.matrix(duplicWin)\n",
    "\tmutMatrix = [np.float(np.random.normal(0,2,1)) if rn.random() < mutRate else 1 for x in range(nextPop.size)]\n",
    "\tnextPop = np.multiply(nextPop, np.matrix(mutMatrix).reshape(nextPop.shape)) \n",
    "\tcurPop = nextPop\n",
    "plt.pyplot.ylabel('Total cost/err')\n",
    "plt.pyplot.xlabel('Generation #')\n",
    "best_soln = curPop[np.argmin(fitVec[:,1])]\n",
    "X = np.array([[0,0,1],[0,1,1],[1,0,1],[1,1,1]])\n",
    "result = np.round(NN.runForward(X, best_soln.T))\n",
    "print(\"Best Sol'n:\\n%s\\nCost:%s\" % (best_soln,np.sum(NN.costFunction(NN.X, NN.y, best_soln.T))))\n",
    "print(\"When X = \\n%s \\nhThetaX = \\n%s\" % (X[:,:2], result,))"
   ]
  },
  {
   "cell_type": "markdown",
   "metadata": {},
   "source": [
    "With a mutation rate of 10% the error trends downward but fails to converge (trust me, I ran it a few times, it almost never converges). This mutation rate is too big, any good solution is likely to just get destroyed by the mutation process.\n",
    "\n",
    "Let's try a really low mutation rate, actually let's just make the mutation rate __0%__."
   ]
  },
  {
   "cell_type": "code",
   "execution_count": 77,
   "metadata": {
    "collapsed": false
   },
   "outputs": [
    {
     "name": "stdout",
     "output_type": "stream",
     "text": [
      "Best Sol'n:\n",
      "[[  5.08 -12.1    6.61   0.48  14.44  -8.22  -9.47   1.94   8.45 -13.2\n",
      "   -4.37  -4.07   6.79]]\n",
      "Cost:0.92032599599\n",
      "When X = \n",
      "[[0 0]\n",
      " [0 1]\n",
      " [1 0]\n",
      " [1 1]] \n",
      "hThetaX = \n",
      "[[ 0.]\n",
      " [ 1.]\n",
      " [ 1.]\n",
      " [ 0.]]\n"
     ]
    },
    {
     "data": {
      "image/png": "[encoded data removed]",
      "text/plain": [
       "<matplotlib.figure.Figure at 0x106c32a20>"
      ]
     },
     "metadata": {},
     "output_type": "display_data"
    }
   ],
   "source": [
    "import matplotlib as plt, random as rn, numpy as np, NeuralNetXOR as NN\n",
    "%matplotlib inline\n",
    "initPop, mutRate, numGen, solLen, numWin = 80, 0.0, 30, 13, 10\n",
    "curPop = np.random.choice(np.arange(-15,15,step=0.01),size=(initPop, solLen),replace=False) \n",
    "nextPop = np.zeros((curPop.shape[0], curPop.shape[1]))\n",
    "fitVec = np.zeros((initPop, 2))\n",
    "for i in range(numGen):\n",
    "\tfitVec = np.array([np.array([x, np.sum(NN.costFunction(NN.X, NN.y, curPop[x].T))]) for x in range(initPop)])\n",
    "\tplt.pyplot.scatter(i,np.sum(fitVec[:,1]))\n",
    "\twinners = np.zeros((numWin, solLen))\n",
    "\tfor n in range(len(winners)):\n",
    "\t\tselected = np.random.choice(range(len(fitVec)), numWin/2, replace=False)\n",
    "\t\twnr = np.argmin(fitVec[selected,1])\n",
    "\t\twinners[n] = curPop[int(fitVec[selected[wnr]][0])]\n",
    "\tnextPop[:len(winners)] = winners\n",
    "\tduplicWin = np.zeros((((initPop - len(winners))),winners.shape[1]))\n",
    "\tfor x in range(winners.shape[1]):\n",
    "\t\tnumDups = ((initPop - len(winners))/len(winners))\n",
    "\t\tduplicWin[:, x] = np.repeat(winners[:, x], numDups, axis=0)\n",
    "\t\tduplicWin[:, x] = np.random.permutation(duplicWin[:, x])\n",
    "\tnextPop[len(winners):] = np.matrix(duplicWin)\n",
    "\tmutMatrix = [np.float(np.random.normal(0,2,1)) if rn.random() < mutRate else 1 for x in range(nextPop.size)]\n",
    "\tnextPop = np.multiply(nextPop, np.matrix(mutMatrix).reshape(nextPop.shape)) \n",
    "\tcurPop = nextPop\n",
    "plt.pyplot.ylabel('Total cost/err')\n",
    "plt.pyplot.xlabel('Generation #')\n",
    "best_soln = curPop[np.argmin(fitVec[:,1])]\n",
    "X = np.array([[0,0,1],[0,1,1],[1,0,1],[1,1,1]])\n",
    "result = np.round(NN.runForward(X, best_soln.T))\n",
    "print(\"Best Sol'n:\\n%s\\nCost:%s\" % (best_soln,np.sum(NN.costFunction(NN.X, NN.y, best_soln.T))))\n",
    "print(\"When X = \\n%s \\nhThetaX = \\n%s\" % (X[:,:2], result,))"
   ]
  },
  {
   "cell_type": "markdown",
   "metadata": {},
   "source": [
    "Here the error trends downward and just flatlines every time. From running this a few times, it converges most of the time but not as frequently as with a mutation rate of 1%. Also, you'll notice that the total error at the end is __0.92__ and it generally stays about the same from a few runs. However, looking back when we used mutRate=0.01, the error get's really, really low at about __0.0011__\n",
    "\n",
    "This demonstrates how a good mutation rate can help the GA escape local minima and maintain 'genetic diversity' in every generation.\n",
    "\n",
    "Now let's return to our good mutation rate of 1% but let's disable the 'mating' process by commenting out that line of code and see what happens.\n",
    "\n",
    "#####Mating disabled:"
   ]
  },
  {
   "cell_type": "code",
   "execution_count": 84,
   "metadata": {
    "collapsed": false
   },
   "outputs": [
    {
     "name": "stdout",
     "output_type": "stream",
     "text": [
      "Best Sol'n:\n",
      "[[ 17.04173136  10.77       -28.33009951 -10.72        -0.30622293\n",
      "  -20.70366345  13.6         -3.37855753   3.62        13.16        -4.68347871\n",
      "  -17.17325518  -1.88      ]]\n",
      "Cost:1.00371505771\n",
      "When X = \n",
      "[[0 0]\n",
      " [0 1]\n",
      " [1 0]\n",
      " [1 1]] \n",
      "hThetaX = \n",
      "[[ 0.]\n",
      " [ 1.]\n",
      " [ 1.]\n",
      " [ 1.]]\n"
     ]
    },
    {
     "data": {
      "image/png": "[encoded data removed]",
      "text/plain": [
       "<matplotlib.figure.Figure at 0x10672def0>"
      ]
     },
     "metadata": {},
     "output_type": "display_data"
    }
   ],
   "source": [
    "import matplotlib as plt, random as rn, numpy as np, NeuralNetXOR as NN\n",
    "%matplotlib inline\n",
    "initPop, mutRate, numGen, solLen, numWin = 80, 0.01, 30, 13, 10\n",
    "curPop = np.random.choice(np.arange(-15,15,step=0.01),size=(initPop, solLen),replace=False) \n",
    "nextPop = np.zeros((curPop.shape[0], curPop.shape[1]))\n",
    "fitVec = np.zeros((initPop, 2))\n",
    "for i in range(numGen):\n",
    "\tfitVec = np.array([np.array([x, np.sum(NN.costFunction(NN.X, NN.y, curPop[x].T))]) for x in range(initPop)])\n",
    "\tplt.pyplot.scatter(i,np.sum(fitVec[:,1]))\n",
    "\twinners = np.zeros((numWin, solLen))\n",
    "\tfor n in range(len(winners)):\n",
    "\t\tselected = np.random.choice(range(len(fitVec)), numWin/2, replace=False)\n",
    "\t\twnr = np.argmin(fitVec[selected,1])\n",
    "\t\twinners[n] = curPop[int(fitVec[selected[wnr]][0])]\n",
    "\tnextPop[:len(winners)] = winners\n",
    "\tduplicWin = np.zeros((((initPop - len(winners))),winners.shape[1]))\n",
    "\tfor x in range(winners.shape[1]):\n",
    "\t\tnumDups = ((initPop - len(winners))/len(winners))\n",
    "\t\tduplicWin[:, x] = np.repeat(winners[:, x], numDups, axis=0)\n",
    "\t\t#duplicWin[:, x] = np.random.permutation(duplicWin[:, x]) Disabled mating process\n",
    "\tnextPop[len(winners):] = np.matrix(duplicWin)\n",
    "\tmutMatrix = [np.float(np.random.normal(0,2,1)) if rn.random() < mutRate else 1 for x in range(nextPop.size)]\n",
    "\tnextPop = np.multiply(nextPop, np.matrix(mutMatrix).reshape(nextPop.shape)) \n",
    "\tcurPop = nextPop\n",
    "plt.pyplot.ylabel('Total cost/err')\n",
    "plt.pyplot.xlabel('Generation #')\n",
    "best_soln = curPop[np.argmin(fitVec[:,1])]\n",
    "X = np.array([[0,0,1],[0,1,1],[1,0,1],[1,1,1]])\n",
    "result = np.round(NN.runForward(X, best_soln.T))\n",
    "print(\"Best Sol'n:\\n%s\\nCost:%s\" % (best_soln,np.sum(NN.costFunction(NN.X, NN.y, best_soln.T))))\n",
    "print(\"When X = \\n%s \\nhThetaX = \\n%s\" % (X[:,:2], result,))"
   ]
  },
  {
   "cell_type": "markdown",
   "metadata": {},
   "source": [
    "This is a particularly interesting run (I ran it with these parameters about 8 times). It only correctly converged once (but didn't achieve the really low error rate we got in the beginning with 1% mut rate and mating enabled). The error vs. num generations graph looked quite different each time I ran it but I'm displaying this one because I think it illustrates nicely what happens when there's no mating.\n",
    "\n",
    "At first we get a sharp drop in error; it's simply selecting for the best solutions in our first generation. Then it flattens out for awhile because we're having a really hard time improving on those initial decent solutions without mating, but eventually, due to a lucky mutation round, we get another sharp decline in error and then it flattens out again. But it's still not good enough to globally converge and solve the problem.\n",
    "\n",
    "Clearly, the mating process is more important than the mutation process.\n",
    "\n",
    "####Closing words...\n",
    "\n",
    "I hope that quells any concerns about the genetic algorithm not actually doing it's evolutionary due diligence. It's also just interesting to experiment with the parameters to see how it affects the performance of the algorithm.\n",
    "\n",
    "This is a simple genetic algorithm implementation. Natural organisms have evolved much more sophisticated ways of controlling their own evolution. \"In general, the mutation rate in unicellular eukaryotes and bacteria is roughly 0.003 mutations per genome per cell generation\" - <a href=\"https://en.wikipedia.org/wiki/Mutation_rate\">Wikipedia</a>. This much lower than our 1% mutation rate, but our solution space is also much, much smaller. \n",
    "\n",
    "Interestingly, however, different genes in the same organism can experience different rates of mutation. In fact, some organisms <em>intentionally</em> subject particular genes to higher rates of mutation (for example, the human immune system involves hypermutating the genes of antibodies to produce higher affinity versions; a sort of evolutionary process in the cells of our own bodies that evolved from an evolutionary process). It would be a fun experiment to try to emulate this behavior in a GA by allowing a separate mutation rate for each 'gene' (element in a vector, in our case) and subjecting those mutation rates themselves to an evolutionary process. It's very unlikely this would help the GA for a simple feedforward neural network (and the overhead to implement it wouldn't be worth it) but could be useful with more complex problems.\n",
    "\n",
    "As a former neuroscience researcher and current medical student, I'm quite fascinated by \"bio-similar\" algorithms like GAs and neural networks, so combining those two here has just filled me with nerd joy.\n",
    "\n",
    "Cheers"
   ]
  }
 ],
 "metadata": {
  "kernelspec": {
   "display_name": "Python 3",
   "language": "python",
   "name": "python3"
  },
  "language_info": {
   "codemirror_mode": {
    "name": "ipython",
    "version": 3
   },
   "file_extension": ".py",
   "mimetype": "text/x-python",
   "name": "python",
   "nbconvert_exporter": "python",
   "pygments_lexer": "ipython3",
   "version": "3.4.3"
  }
 },
 "nbformat": 4,
 "nbformat_minor": 0
}
