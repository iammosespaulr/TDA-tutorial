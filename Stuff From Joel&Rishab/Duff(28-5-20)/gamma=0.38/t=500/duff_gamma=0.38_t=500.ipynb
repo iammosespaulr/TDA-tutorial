{
 "cells": [
  {
   "cell_type": "code",
   "execution_count": 1,
   "metadata": {},
   "outputs": [
    {
     "name": "stdout",
     "output_type": "stream",
     "text": [
      "the value of h is 0.009425720532822661\n"
     ]
    },
    {
     "data": {
      "text/plain": [
       "<Figure size 640x480 with 1 Axes>"
      ]
     },
     "metadata": {},
     "output_type": "display_data"
    },
    {
     "name": "stdout",
     "output_type": "stream",
     "text": [
      "The value of GAMMA = 0.38\n"
     ]
    },
    {
     "data": {
      "text/plain": [
       "<Figure size 640x480 with 1 Axes>"
      ]
     },
     "metadata": {},
     "output_type": "display_data"
    },
    {
     "name": "stdout",
     "output_type": "stream",
     "text": [
      "SAMPLING\n"
     ]
    },
    {
     "data": {
      "text/plain": [
       "<Figure size 640x480 with 1 Axes>"
      ]
     },
     "metadata": {},
     "output_type": "display_data"
    }
   ],
   "source": [
    "### duffing oscillator\n",
    "\n",
    "import matplotlib\n",
    "import numpy as np\n",
    "from numpy import zeros, linspace, pi, cos, array\n",
    "from matplotlib import pyplot as plt\n",
    "\n",
    "t0=0\n",
    "tf=30*pi\n",
    "omega=1.2                     \n",
    "beta=1              \n",
    "delta=0.3             \n",
    "gamma=0.38          \n",
    "alpha=1              \n",
    "n=10000                                     #iteration\n",
    "h=(tf-t0)/(n-1)                            #stepsize\n",
    "print('the value of h is',h)\n",
    "u0=0                                       #initial displacement\n",
    "\n",
    "\n",
    "t=linspace(t0,tf,n)\n",
    "v=zeros([n])\n",
    "u=zeros([n])\n",
    "u[0]=u0\n",
    "v[0]=0                                     #initial velocity\n",
    "\n",
    "##### DEFINING FUNCTIONS\n",
    "\n",
    "def dudt(t,u,v):                                                #### u' = v                                              \n",
    "    return(v)\n",
    "\n",
    "def funt(t,u,v):                                                #### v' = -delta*v+alpha*u-beta*u**3+gamma*cos(omega*t)   \n",
    "    return (-delta*v+alpha*u-beta*u**3+gamma*cos(omega*t))\n",
    "\n",
    "######  RK4 ALGORITHM USING FOR LOOP\n",
    " \n",
    "for i in range(1,n):\n",
    "    k1=h*dudt(t[i-1],u[i-1],v[i-1])\n",
    "    l1=h*funt(t[i-1],u[i-1],v[i-1])\n",
    "    \n",
    "    k2=h*dudt(t[i-1]+(0.5*h),u[i-1]+(k1*0.5),v[i-1]+(l1*0.5))\n",
    "    l2=h*funt(t[i-1]+(0.5*h),u[i-1]+(k1*0.5),v[i-1]+(l1*0.5))\n",
    "    \n",
    "    k3=h*dudt(t[i-1]+(0.5*h),u[i-1]+(k2*0.5),v[i-1]+(l2*0.5))\n",
    "    l3=h*funt(t[i-1]+(0.5*h),u[i-1]+(k2*0.5),v[i-1]+(l2*0.5))\n",
    "    \n",
    "    k4=h*dudt(t[i-1]+h,u[i-1]+(k3),v[i-1]+(l3))\n",
    "    l4=h*funt(t[i-1]+h,u[i-1]+(k3),v[i-1]+(l3))\n",
    "    \n",
    "    u[i]=u[i-1]+(1/6)*(k1+(2*k2)+(2*k3)+k4)\n",
    "    v[i]=v[i-1]+(1/6)*(l1+(2*l2)+(2*l3)+l4)\n",
    "\n",
    "### PLOT\n",
    "\n",
    "plt.plot(t,u,'-r')\n",
    "plt.xlabel('time(t)')\n",
    "plt.ylabel('displacement(u)')\n",
    "plt.show()\n",
    "print('The value of GAMMA =',gamma)\n",
    "fig = plt.figure()\n",
    "plt.title(\"DUFFING_phaseplot_gamma=0.38\")\n",
    "plt.plot(u[5000:10000],v[5000:10000],'-g')\n",
    "plt.xlabel('displacement(u)')\n",
    "plt.ylabel('velocity(v)')\n",
    "plt.show()\n",
    "fig.savefig('duff_plot_gamma=0.38.png')\n",
    "#fig.savefig('duff_plot_gamma=0.38.eps')\n",
    "\n",
    "#### SAMPLING\n",
    "\n",
    "print(\"SAMPLING\")\n",
    "\n",
    "\n",
    "fig = plt.figure()\n",
    "plt.plot(u[5000:10000:500],v[5000:10000:500],'.g')\n",
    "data500=u[5000:10000:500],v[5000:10000:500]\n",
    "np.savetxt('RAW_t=500_data(0.38).dat', data500)\n",
    "plt.title(\"SAMPLING_t=500,gamma=0.38\")\n",
    "plt.xlabel('displacement(u)')\n",
    "plt.ylabel('velocity(v)')\n",
    "plt.show()\n",
    "fig.savefig('duff_sampling_gamma=0.38_t=500.png')\n",
    "#fig.savefig('duff_sampling_gamma=0.38_t=500.eps')\n"
   ]
  },
  {
   "cell_type": "code",
   "execution_count": 2,
   "metadata": {},
   "outputs": [
    {
     "data": {
      "image/png": "[encoded data removed]",
      "text/plain": [
       "<Figure size 432x288 with 1 Axes>"
      ]
     },
     "metadata": {
      "needs_background": "light"
     },
     "output_type": "display_data"
    },
    {
     "data": {
      "image/png": "[encoded data removed]",
      "text/plain": [
       "<Figure size 640x480 with 1 Axes>"
      ]
     },
     "metadata": {},
     "output_type": "display_data"
    }
   ],
   "source": [
    "### PH for t=500------gamma=0.38\n",
    "\n",
    "import matplotlib\n",
    "import numpy as np\n",
    "from ripser import ripser\n",
    "from persim import plot_diagrams\n",
    "from matplotlib import pyplot as plt\n",
    "\n",
    "\n",
    "data = np.loadtxt('RAW_t=500_data(0.38).dat')\n",
    "#print(data)\n",
    "fig = plt.figure()\n",
    "data1=data.transpose()\n",
    "#print(data1)\n",
    "plt.title(\"PERSISTENCE DIAGRAM\")\n",
    "diagrams = ripser(data1, maxdim=2)['dgms']\n",
    "fig.savefig('persistence diagram_gamma=0.38,t=500.png')\n",
    "fig.savefig('persistence diagram_gamma=0.38,t=500.eps')\n",
    "\n",
    "#print(diagrams)\n",
    "np.savetxt('ripser_plot_gamma=0.38,t=500.dat', diagrams, fmt='%s')\n",
    "plot_diagrams(diagrams, show=True)\n",
    "plot_diagrams(diagrams, lifetime=True)"
   ]
  },
  {
   "cell_type": "code",
   "execution_count": null,
   "metadata": {},
   "outputs": [],
   "source": []
  },
  {
   "cell_type": "code",
   "execution_count": null,
   "metadata": {},
   "outputs": [],
   "source": []
  },
  {
   "cell_type": "code",
   "execution_count": null,
   "metadata": {},
   "outputs": [],
   "source": []
  }
 ],
 "metadata": {
  "kernelspec": {
   "display_name": "Python 3",
   "language": "python",
   "name": "python3"
  },
  "language_info": {
   "codemirror_mode": {
    "name": "ipython",
    "version": 3
   },
   "file_extension": ".py",
   "mimetype": "text/x-python",
   "name": "python",
   "nbconvert_exporter": "python",
   "pygments_lexer": "ipython3",
   "version": "3.7.3"
  }
 },
 "nbformat": 4,
 "nbformat_minor": 2
}
